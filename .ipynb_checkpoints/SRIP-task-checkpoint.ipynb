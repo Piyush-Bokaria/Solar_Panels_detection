{
 "cells": [
  {
   "cell_type": "code",
   "execution_count": 43,
   "id": "6ed50b57-4b02-489e-8e0b-6f4d87a78f8a",
   "metadata": {},
   "outputs": [],
   "source": [
    "import os\n",
    "import numpy as np\n",
    "import pandas as pd\n",
    "import matplotlib.pyplot as plt\n",
    "import supervision as sv\n",
    "import cv2\n",
    "import shapely as sp\n",
    "import ultralytics\n",
    "import shutil\n",
    "import random as rd\n",
    "from collections import namedtuple\n",
    "from sklearn.metrics import auc\n",
    "from sklearn.model_selection import train_test_split\n",
    "from ultralytics import YOLO"
   ]
  },
  {
   "cell_type": "code",
   "execution_count": 10,
   "id": "6ac06841-ad3c-4f56-9c0d-015bf697c02f",
   "metadata": {
    "collapsed": true,
    "jupyter": {
     "outputs_hidden": true
    },
    "scrolled": true
   },
   "outputs": [
    {
     "name": "stdout",
     "output_type": "stream",
     "text": [
      "Requirement already satisfied: supervision in c:\\users\\piyush\\appdata\\local\\programs\\python\\python313\\lib\\site-packages (0.25.1)\n",
      "Requirement already satisfied: shapely in c:\\users\\piyush\\appdata\\local\\programs\\python\\python313\\lib\\site-packages (2.0.7)\n",
      "Requirement already satisfied: contourpy>=1.3.0 in c:\\users\\piyush\\appdata\\local\\programs\\python\\python313\\lib\\site-packages (from supervision) (1.3.1)\n",
      "Requirement already satisfied: defusedxml<0.8.0,>=0.7.1 in c:\\users\\piyush\\appdata\\local\\programs\\python\\python313\\lib\\site-packages (from supervision) (0.7.1)\n",
      "Requirement already satisfied: matplotlib>=3.6.0 in c:\\users\\piyush\\appdata\\local\\programs\\python\\python313\\lib\\site-packages (from supervision) (3.10.0)\n",
      "Requirement already satisfied: numpy>=2.1.0 in c:\\users\\piyush\\appdata\\local\\programs\\python\\python313\\lib\\site-packages (from supervision) (2.2.1)\n",
      "Requirement already satisfied: opencv-python>=4.5.5.64 in c:\\users\\piyush\\appdata\\local\\programs\\python\\python313\\lib\\site-packages (from supervision) (4.11.0.86)\n",
      "Requirement already satisfied: pillow>=9.4 in c:\\users\\piyush\\appdata\\local\\programs\\python\\python313\\lib\\site-packages (from supervision) (11.1.0)\n",
      "Requirement already satisfied: pyyaml>=5.3 in c:\\users\\piyush\\appdata\\local\\programs\\python\\python313\\lib\\site-packages (from supervision) (6.0.2)\n",
      "Requirement already satisfied: requests>=2.26.0 in c:\\users\\piyush\\appdata\\local\\programs\\python\\python313\\lib\\site-packages (from supervision) (2.32.3)\n",
      "Requirement already satisfied: scipy<2.0.0,>=1.10.0 in c:\\users\\piyush\\appdata\\local\\programs\\python\\python313\\lib\\site-packages (from supervision) (1.15.2)\n",
      "Requirement already satisfied: tqdm>=4.62.3 in c:\\users\\piyush\\appdata\\local\\programs\\python\\python313\\lib\\site-packages (from supervision) (4.67.1)\n",
      "Requirement already satisfied: cycler>=0.10 in c:\\users\\piyush\\appdata\\local\\programs\\python\\python313\\lib\\site-packages (from matplotlib>=3.6.0->supervision) (0.12.1)\n",
      "Requirement already satisfied: fonttools>=4.22.0 in c:\\users\\piyush\\appdata\\local\\programs\\python\\python313\\lib\\site-packages (from matplotlib>=3.6.0->supervision) (4.55.3)\n",
      "Requirement already satisfied: kiwisolver>=1.3.1 in c:\\users\\piyush\\appdata\\local\\programs\\python\\python313\\lib\\site-packages (from matplotlib>=3.6.0->supervision) (1.4.8)\n",
      "Requirement already satisfied: packaging>=20.0 in c:\\users\\piyush\\appdata\\local\\programs\\python\\python313\\lib\\site-packages (from matplotlib>=3.6.0->supervision) (24.2)\n",
      "Requirement already satisfied: pyparsing>=2.3.1 in c:\\users\\piyush\\appdata\\local\\programs\\python\\python313\\lib\\site-packages (from matplotlib>=3.6.0->supervision) (3.2.1)\n",
      "Requirement already satisfied: python-dateutil>=2.7 in c:\\users\\piyush\\appdata\\local\\programs\\python\\python313\\lib\\site-packages (from matplotlib>=3.6.0->supervision) (2.9.0.post0)\n",
      "Requirement already satisfied: charset-normalizer<4,>=2 in c:\\users\\piyush\\appdata\\local\\programs\\python\\python313\\lib\\site-packages (from requests>=2.26.0->supervision) (3.4.1)\n",
      "Requirement already satisfied: idna<4,>=2.5 in c:\\users\\piyush\\appdata\\local\\programs\\python\\python313\\lib\\site-packages (from requests>=2.26.0->supervision) (3.10)\n",
      "Requirement already satisfied: urllib3<3,>=1.21.1 in c:\\users\\piyush\\appdata\\local\\programs\\python\\python313\\lib\\site-packages (from requests>=2.26.0->supervision) (2.3.0)\n",
      "Requirement already satisfied: certifi>=2017.4.17 in c:\\users\\piyush\\appdata\\local\\programs\\python\\python313\\lib\\site-packages (from requests>=2.26.0->supervision) (2024.12.14)\n",
      "Requirement already satisfied: colorama in c:\\users\\piyush\\appdata\\local\\programs\\python\\python313\\lib\\site-packages (from tqdm>=4.62.3->supervision) (0.4.6)\n",
      "Requirement already satisfied: six>=1.5 in c:\\users\\piyush\\appdata\\local\\programs\\python\\python313\\lib\\site-packages (from python-dateutil>=2.7->matplotlib>=3.6.0->supervision) (1.17.0)\n",
      "Note: you may need to restart the kernel to use updated packages.\n"
     ]
    }
   ],
   "source": [
    "pip install supervision shapely"
   ]
  },
  {
   "cell_type": "code",
   "execution_count": 63,
   "id": "281da9df-93aa-4ab5-8b70-20f4f49f0856",
   "metadata": {
    "collapsed": true,
    "jupyter": {
     "outputs_hidden": true
    },
    "scrolled": true
   },
   "outputs": [
    {
     "name": "stdout",
     "output_type": "stream",
     "text": [
      "Collecting scikit-learn\n",
      "  Downloading scikit_learn-1.6.1-cp313-cp313-win_amd64.whl.metadata (15 kB)\n",
      "Requirement already satisfied: numpy>=1.19.5 in c:\\users\\piyush\\appdata\\local\\programs\\python\\python313\\lib\\site-packages (from scikit-learn) (2.2.1)\n",
      "Requirement already satisfied: scipy>=1.6.0 in c:\\users\\piyush\\appdata\\local\\programs\\python\\python313\\lib\\site-packages (from scikit-learn) (1.15.2)\n",
      "Collecting joblib>=1.2.0 (from scikit-learn)\n",
      "  Using cached joblib-1.4.2-py3-none-any.whl.metadata (5.4 kB)\n",
      "Collecting threadpoolctl>=3.1.0 (from scikit-learn)\n",
      "  Using cached threadpoolctl-3.5.0-py3-none-any.whl.metadata (13 kB)\n",
      "Downloading scikit_learn-1.6.1-cp313-cp313-win_amd64.whl (11.1 MB)\n",
      "   ---------------------------------------- 0.0/11.1 MB ? eta -:--:--\n",
      "   --- ------------------------------------ 1.0/11.1 MB 7.4 MB/s eta 0:00:02\n",
      "   ---- ----------------------------------- 1.3/11.1 MB 6.0 MB/s eta 0:00:02\n",
      "   -------- ------------------------------- 2.4/11.1 MB 3.9 MB/s eta 0:00:03\n",
      "   ----------- ---------------------------- 3.1/11.1 MB 3.9 MB/s eta 0:00:03\n",
      "   ------------ --------------------------- 3.4/11.1 MB 3.9 MB/s eta 0:00:02\n",
      "   ---------------- ----------------------- 4.5/11.1 MB 3.8 MB/s eta 0:00:02\n",
      "   ------------------- -------------------- 5.5/11.1 MB 3.9 MB/s eta 0:00:02\n",
      "   ---------------------- ----------------- 6.3/11.1 MB 3.9 MB/s eta 0:00:02\n",
      "   -------------------------- ------------- 7.3/11.1 MB 3.9 MB/s eta 0:00:01\n",
      "   ----------------------------- ---------- 8.1/11.1 MB 3.9 MB/s eta 0:00:01\n",
      "   -------------------------------- ------- 8.9/11.1 MB 3.9 MB/s eta 0:00:01\n",
      "   ----------------------------------- ---- 9.7/11.1 MB 3.9 MB/s eta 0:00:01\n",
      "   ------------------------------------- -- 10.5/11.1 MB 3.9 MB/s eta 0:00:01\n",
      "   ---------------------------------------- 11.1/11.1 MB 3.8 MB/s eta 0:00:00\n",
      "Using cached joblib-1.4.2-py3-none-any.whl (301 kB)\n",
      "Using cached threadpoolctl-3.5.0-py3-none-any.whl (18 kB)\n",
      "Installing collected packages: threadpoolctl, joblib, scikit-learn\n",
      "Successfully installed joblib-1.4.2 scikit-learn-1.6.1 threadpoolctl-3.5.0\n",
      "Note: you may need to restart the kernel to use updated packages.\n"
     ]
    }
   ],
   "source": [
    "pip install scikit-learn"
   ]
  },
  {
   "cell_type": "code",
   "execution_count": 2,
   "id": "ac1a30f2-caaf-423a-ae9d-98ce283bcabd",
   "metadata": {},
   "outputs": [],
   "source": [
    "labels = \"labels/labels_native\"\n",
    "images = \"image_chips_native\"\n",
    "output_path = \"Outputs\""
   ]
  },
  {
   "cell_type": "markdown",
   "id": "4c2b7eb2-5bd5-4002-9efe-d0ce8c3dacd6",
   "metadata": {
    "jp-MarkdownHeadingCollapsed": true
   },
   "source": [
    "# Data Exploration and Understanding"
   ]
  },
  {
   "cell_type": "code",
   "execution_count": 29,
   "id": "50b1a4c8-905e-48e1-a976-60266c5a957d",
   "metadata": {},
   "outputs": [],
   "source": [
    "#variables declaration\n",
    "total_instances = 0\n",
    "value_counts = {}\n",
    "max_count = 0\n",
    "image_size = 416\n",
    "resolution = 0.31\n",
    "instances_area = []\n",
    "mean_area = 0\n",
    "sd_area = 0"
   ]
  },
  {
   "cell_type": "markdown",
   "id": "d5a55ecd-c11c-43ad-b265-5cd03720475d",
   "metadata": {},
   "source": [
    "1. ## Dataset statistics "
   ]
  },
  {
   "cell_type": "code",
   "execution_count": 30,
   "id": "fc3508b0-757c-48f3-8fba-bc7819c4e980",
   "metadata": {},
   "outputs": [],
   "source": [
    "for file_name in os.listdir(labels):\n",
    "    if file_name.endswith(\".txt\"):\n",
    "        file_path = os.path.join(labels, file_name)\n",
    "        \n",
    "        with open(file_path, \"r\") as file:\n",
    "            \n",
    "            lines = file.readlines()\n",
    "            curr_file_len = len(lines) #length of the current opened file\n",
    "            total_instances += curr_file_len\n",
    "            value_counts[curr_file_len] = value_counts.get(curr_file_len, 0) + 1\n",
    "            max_count = max(max_count, curr_file_len)\n",
    "\n",
    "            for line in lines:\n",
    "                curr_area = compute_area_instance(line)\n",
    "                instances_area.append(curr_area)\n",
    "                max_class = max(max_class, int(line[0:1]))\n",
    "\n",
    "for i in range(max_count + 1):\n",
    "    if value_counts.get(i, 0) == 0:\n",
    "        value_counts[i] = 0\n",
    "        \n",
    "mean_area = np.mean(instances_area)\n",
    "sd_area = np.std(instances_area, dtype = np.float32)"
   ]
  },
  {
   "cell_type": "markdown",
   "id": "b4305d0b-bc08-4e8e-8c75-24cdca4f4039",
   "metadata": {},
   "source": [
    "- #### How many instances of solar panels are present in the dataset?\n",
    "- #### Compute and show the value counts of labels per image. E.g., X images have 0 labels, Y images have 1 label, … and so on."
   ]
  },
  {
   "cell_type": "code",
   "execution_count": 7,
   "id": "695e85fd-297a-4dee-9124-c6b0063f6c46",
   "metadata": {
    "scrolled": true
   },
   "outputs": [
    {
     "name": "stdout",
     "output_type": "stream",
     "text": [
      "The Total number of instances of solar panels are present in the dataset: 59250\n",
      "\n",
      "Value counts of labels per image:\n",
      "162 images have 1 labels\n",
      "334 images have 2 labels\n",
      "442 images have 3 labels\n",
      "436 images have 4 labels\n",
      "434 images have 5 labels\n",
      "378 images have 6 labels\n",
      "340 images have 7 labels\n",
      "368 images have 8 labels\n",
      "338 images have 9 labels\n",
      "242 images have 10 labels\n",
      "194 images have 11 labels\n",
      "168 images have 12 labels\n",
      "138 images have 13 labels\n",
      "98 images have 14 labels\n",
      "92 images have 15 labels\n",
      "82 images have 16 labels\n",
      "72 images have 17 labels\n",
      "50 images have 18 labels\n",
      "58 images have 19 labels\n",
      "28 images have 20 labels\n",
      "8 images have 21 labels\n",
      "2 images have 22 labels\n",
      "8 images have 23 labels\n",
      "4 images have 24 labels\n",
      "8 images have 25 labels\n",
      "6 images have 26 labels\n",
      "10 images have 27 labels\n",
      "10 images have 28 labels\n",
      "30 images have 29 labels\n",
      "40 images have 30 labels\n",
      "16 images have 31 labels\n",
      "14 images have 32 labels\n",
      "26 images have 33 labels\n",
      "38 images have 34 labels\n",
      "20 images have 35 labels\n",
      "12 images have 36 labels\n",
      "34 images have 37 labels\n",
      "26 images have 38 labels\n",
      "12 images have 39 labels\n",
      "18 images have 40 labels\n",
      "20 images have 41 labels\n",
      "24 images have 42 labels\n",
      "22 images have 43 labels\n",
      "8 images have 44 labels\n",
      "4 images have 45 labels\n",
      "10 images have 46 labels\n",
      "18 images have 47 labels\n",
      "6 images have 48 labels\n",
      "10 images have 49 labels\n",
      "12 images have 50 labels\n",
      "18 images have 51 labels\n",
      "32 images have 52 labels\n",
      "8 images have 53 labels\n",
      "12 images have 54 labels\n",
      "2 images have 55 labels\n",
      "2 images have 56 labels\n",
      "0 images have 57 labels\n",
      "6 images have 58 labels\n",
      "4 images have 59 labels\n",
      "4 images have 60 labels\n",
      "2 images have 61 labels\n",
      "12 images have 62 labels\n",
      "6 images have 63 labels\n",
      "2 images have 64 labels\n",
      "6 images have 65 labels\n",
      "8 images have 66 labels\n",
      "2 images have 67 labels\n",
      "0 images have 68 labels\n",
      "0 images have 69 labels\n",
      "0 images have 70 labels\n",
      "2 images have 71 labels\n",
      "2 images have 72 labels\n",
      "2 images have 73 labels\n",
      "10 images have 74 labels\n",
      "2 images have 75 labels\n",
      "4 images have 76 labels\n",
      "4 images have 77 labels\n",
      "2 images have 78 labels\n"
     ]
    }
   ],
   "source": [
    "print(f\"The Total number of instances of solar panels are present in the dataset: {total_instances}\\n\")\n",
    "\n",
    "print(\"Value counts of labels per image:\")\n",
    "for values in range(1, max_count + 1):\n",
    "    print(f\"{value_counts[values]} images have {values} labels\")"
   ]
  },
  {
   "cell_type": "markdown",
   "id": "d82c0c1b-982d-4235-bba5-38f4e0e18414",
   "metadata": {},
   "source": [
    "2. ## Calculate the statistics of the area of solar panels in meters"
   ]
  },
  {
   "cell_type": "markdown",
   "id": "a365b584-bc71-4314-969e-daad55579470",
   "metadata": {},
   "source": [
    "- ### What method was used to compute the area (in meters) for a single instance?"
   ]
  },
  {
   "cell_type": "markdown",
   "id": "342321da-72e5-4eb6-b0cc-b2f9c0528b42",
   "metadata": {},
   "source": [
    "##### The label of a single instance contains 5 values [class_id, x_center, y_center, width, height]\n",
    "##### To compute the area of a single instance:\n",
    "- ##### Calculate the height, width of the instance in pixels :\n",
    "    - ###### width_in_pixels = width * 416\n",
    "    - ###### height_in_pixels = height * 416\n",
    "- ##### Convert the height and width into real-world values by multiplying with resolution:\n",
    "    - ###### width_in_meters = width_in_pixels * 0.31\n",
    "    - ###### height_in_meters = height_in_pixels * 0.31\n",
    "#####\n",
    "##### Calculate the area of the instance by multiplying width and height:\n",
    "##### Area = height_in_meters * weight_in_meters"
   ]
  },
  {
   "cell_type": "code",
   "execution_count": 4,
   "id": "041d5f6e-a08d-4838-b04e-0fe2a4f7dabb",
   "metadata": {},
   "outputs": [],
   "source": [
    "def compute_area_instance(label):\n",
    "    _, _, _, width, height = map(float, line.strip().split())\n",
    "\n",
    "    width_in_pixels = width * image_size\n",
    "    height_in_pixels = height * image_size\n",
    "\n",
    "    width_in_meters = width_in_pixels * resolution\n",
    "    height_in_meters = height_in_pixels * resolution\n",
    "\n",
    "    area = width_in_meters * height_in_meters\n",
    "\n",
    "    return area"
   ]
  },
  {
   "cell_type": "markdown",
   "id": "4fe6ca9b-001c-40c5-bb46-92d764e3cb6f",
   "metadata": {},
   "source": [
    "- ### What is the mean area and standard deviation?"
   ]
  },
  {
   "cell_type": "code",
   "execution_count": 8,
   "id": "8f965c54-f939-4738-ad95-5f4a16a9b646",
   "metadata": {},
   "outputs": [
    {
     "name": "stdout",
     "output_type": "stream",
     "text": [
      "The mean area of instances is 191.5178\n",
      "The Standard Deviation is 630.7004\n"
     ]
    }
   ],
   "source": [
    "print(f\"The mean area of instances is {round(mean_area, 4)}\")\n",
    "print(f\"The Standard Deviation is {sd_area:.4f}\")"
   ]
  },
  {
   "cell_type": "markdown",
   "id": "93751fc9-86f6-40b7-bbc3-e72a0e8fee69",
   "metadata": {},
   "source": [
    "- ### Plot the histogram of areas. What do you observe? "
   ]
  },
  {
   "cell_type": "code",
   "execution_count": 10,
   "id": "c35ebbb1-135d-41cc-b932-d98b065c5190",
   "metadata": {},
   "outputs": [
    {
     "data": {
      "image/png": "[encoded data removed]",
      "text/plain": [
       "<Figure size 1400x800 with 1 Axes>"
      ]
     },
     "metadata": {},
     "output_type": "display_data"
    }
   ],
   "source": [
    "plt.figure(figsize = (14, 8))\n",
    "\n",
    "plt.hist(instances_area, bins = 175, edgecolor = \"black\")\n",
    "plt.xlabel(\"Area - sq meters\")\n",
    "plt.ylabel(\"Frequency\")\n",
    "plt.show()"
   ]
  },
  {
   "cell_type": "markdown",
   "id": "f088f82d-a7eb-4d1c-9ff6-e943d14a43cc",
   "metadata": {},
   "source": [
    "- From the histogram we can say that it a right-skewed distribution\n",
    "- Most of the solar panels in the dataset are smaller size solar panels\n",
    "- Also we can see the long tail effect, due to very few large area solar panels(outliers). "
   ]
  },
  {
   "cell_type": "markdown",
   "id": "64145064-4cdf-4f73-aa9b-e5a3d407f302",
   "metadata": {
    "jp-MarkdownHeadingCollapsed": true
   },
   "source": [
    "# Implementing the Fundamental Functions"
   ]
  },
  {
   "cell_type": "markdown",
   "id": "f65e0dab-73c0-4f3e-9a34-e75d290485a4",
   "metadata": {},
   "source": [
    "1. ### Write a function to compute IoU (Intersection over Union) between two axis-aligned bounding boxes specified in the Ultralytics YOLO format. You MUST use the shapely library and its functionalities to write your function. Show that your function provides the same or similar answer as IoU computed using supervision library "
   ]
  },
  {
   "cell_type": "code",
   "execution_count": 11,
   "id": "7fa9b939-b17d-4fda-9984-69bcd19913b8",
   "metadata": {},
   "outputs": [],
   "source": [
    "#creating the bouding box and converting to pixels\n",
    "\n",
    "def create_box(x_center, y_center, width, height, img_size = 416):\n",
    "    x_start = (x_center -  width / 2) * img_size\n",
    "    x_end = (x_center + width / 2) * img_size\n",
    "    y_start = (y_center - width / 2) * img_size\n",
    "    y_end = (y_center + width / 2) * img_size\n",
    "\n",
    "    return x_start, y_start, x_end, y_end"
   ]
  },
  {
   "cell_type": "code",
   "execution_count": 12,
   "id": "baa04c2c-3ba1-4ecd-afce-1019abefb388",
   "metadata": {},
   "outputs": [],
   "source": [
    "#calculating IOU using shapely librery and it's functions \n",
    "\n",
    "def iou_shapely(box1, box2, img_size = 416):\n",
    "    x_start, y_start, x_end, y_end = create_box(*box1)\n",
    "    shapely_box1 = sp.geometry.box(x_start, y_start, x_end, y_end) #creating the bounding box1\n",
    "\n",
    "    x_start, y_start, x_end, y_end = create_box(*box2)\n",
    "    shapely_box2 = sp.geometry.box(x_start, y_start, x_end, y_end) #creating the bounding box2\n",
    "\n",
    "    box_intersection = shapely_box1.intersection(shapely_box2).area #calculating the area of intersection of boxes\n",
    "    box_union = shapely_box1.union(shapely_box2).area               #calculating the area of union of boxes\n",
    "\n",
    "    iou = box_intersection / box_union if box_union > 0 else 0.0    #calculating IOU, if area of union is 0 then IOU is also 0\n",
    "\n",
    "    return iou"
   ]
  },
  {
   "cell_type": "code",
   "execution_count": 13,
   "id": "32631dff-9b4f-4d9c-9301-c73a3f25f13f",
   "metadata": {},
   "outputs": [],
   "source": [
    "#calculating the IOU using the supervision library\n",
    "\n",
    "def iou_supervision(box1, box2):\n",
    "    box_supervision1 = create_box(*box1) #array of the four corners of the bouding box-1\n",
    "    box_supervision2 = create_box(*box2) #array of the four corners of the bouding box-2\n",
    "\n",
    "    arr1 = np.array([box_supervision1])  \n",
    "    arr2 = np.array([box_supervision2])\n",
    "    iou = sv.box_iou_batch(arr1, arr2)#Using the built-in function in supervision the iou is calculated for the two boxes\n",
    "    return iou[0][0]"
   ]
  },
  {
   "cell_type": "code",
   "execution_count": 15,
   "id": "12eea33e-f8d6-455a-86ed-af63624b8bfe",
   "metadata": {},
   "outputs": [
    {
     "name": "stdout",
     "output_type": "stream",
     "text": [
      "IOU using Shapely Library : 0.02890173410404618\n",
      "IOU using Shapely Library : 0.02890173410404618\n",
      "Above function provides the same or similar answer as IoU computed using `supervision` library: True\n"
     ]
    }
   ],
   "source": [
    "box1 = (0.9, 0.5, 0.5, 0.5)\n",
    "box2 = (0.3, 0.6, 0.8, 0.7)\n",
    "\n",
    "shapely_values = iou_shapely(box1, box2)\n",
    "supervision_values = iou_supervision(box1, box2)\n",
    "\n",
    "print(f\"IOU using Shapely Library : {shapely_values}\")\n",
    "print(f\"IOU using Shapely Library : {supervision_values}\")\n",
    "print(f\"Above function provides the same or similar answer as IoU computed using `supervision` library: {np.isclose(shapely_values, supervision_values)}\")"
   ]
  },
  {
   "cell_type": "markdown",
   "id": "555bb5d6-b53b-4718-8d09-0754430f0e8a",
   "metadata": {},
   "source": [
    "2. ## Write a function to compute Average Precision (AP)"
   ]
  },
  {
   "cell_type": "markdown",
   "id": "33793f71-399f-489d-83b7-43e3426247aa",
   "metadata": {},
   "source": [
    "- ### Use Pascal VOC 11 point interpolation method to implement the function "
   ]
  },
  {
   "cell_type": "code",
   "execution_count": 16,
   "id": "3200b7b3-4905-4a93-8f18-339c1550c5f6",
   "metadata": {},
   "outputs": [],
   "source": [
    "def compute_voc11(precision, recalls):\n",
    "    avg_precision = 0.0\n",
    "    recall_levels = np.linspace(0, 1, 11)\n",
    "\n",
    "    for level in recall_levels:\n",
    "        curr_max = max(precision[recalls >= level]) if np.any(recalls >= level) else 0\n",
    "        avg_precision += curr_max\n",
    "\n",
    "    return avg_precision / 11"
   ]
  },
  {
   "cell_type": "markdown",
   "id": "2f9c09a8-f197-471e-8035-03f2bb578840",
   "metadata": {},
   "source": [
    "- ### Use COCO 101-point interpolation method to implement the function\n"
   ]
  },
  {
   "cell_type": "code",
   "execution_count": 17,
   "id": "30a70fee-649b-4c5a-a037-5747dd62b992",
   "metadata": {},
   "outputs": [],
   "source": [
    "def compute_coco101(precision, recalls):\n",
    "    avg_precision = 0.0\n",
    "    recall_levels = np.linspace(0, 1, 101)\n",
    "\n",
    "    for level in recall_levels:\n",
    "        curr_max = max(precision[recalls >= level]) if np.any(recalls >= level) else 0\n",
    "        avg_precision += curr_max\n",
    "\n",
    "    return avg_precision / 101"
   ]
  },
  {
   "cell_type": "markdown",
   "id": "ceb9e82e-2ac4-4c06-a8de-b38fe5253903",
   "metadata": {},
   "source": [
    "- ### Use Area under Precision-Recall Curve (AP) method to implement the function "
   ]
  },
  {
   "cell_type": "code",
   "execution_count": 18,
   "id": "5ad0fc96-e8a4-4256-be89-978cb548c29d",
   "metadata": {},
   "outputs": [],
   "source": [
    "def compute_auc(precision, recalls):\n",
    "    return auc(recalls, precision)"
   ]
  },
  {
   "cell_type": "markdown",
   "id": "8755c0d1-fe7c-4db2-99bb-cc5040087ead",
   "metadata": {},
   "source": [
    "### Computing the precision and recall values for implementation of above functions"
   ]
  },
  {
   "cell_type": "code",
   "execution_count": 19,
   "id": "02e82aa5-7262-44b3-a173-b780f0ce8864",
   "metadata": {},
   "outputs": [],
   "source": [
    "# function to generate precisions and recall values for the calculation of Average Precision\n",
    "\n",
    "def generate_precision_recall(predicted_boxes, ground_truths, iou_threshold=0.5):\n",
    "    predicted_boxes = sorted(predicted_boxes, key = lambda x : x[1], reverse = True)\n",
    "    \n",
    "    tp, fp, fn = 0, 0, len(ground_truths) # True Positives, False Positives,  False Negatives (Initially all Ground-Truth's are unmatched)\n",
    "    precision_values, recall_values = [], []\n",
    "\n",
    "    for pred_box, _ in predicted_boxes:\n",
    "\n",
    "        curr_max = 0\n",
    "        \n",
    "        for gt in ground_truths:\n",
    "            curr_max = max(curr_max, iou_shapely(pred_box, gt))\n",
    "\n",
    "        if curr_max >= iou_threshold:\n",
    "            tp += 1\n",
    "            fn -= 1\n",
    "        else:\n",
    "            fp += 1\n",
    "    \n",
    "        precision = tp / (tp + fp) if (tp + fp) > 0 else 0\n",
    "        recall = tp / (tp + fn) if (tp + fn) > 0 else 0\n",
    "\n",
    "        precision_values.append(precision)\n",
    "        recall_values.append(recall)\n",
    "\n",
    "    return np.array(precision_values), np.array(recall_values)"
   ]
  },
  {
   "cell_type": "markdown",
   "id": "c71b95f3-9816-4925-a73c-06f7c2636da5",
   "metadata": {},
   "source": [
    "- ### Randomly generate 10 images of size 100x100. Randomly generate 10 ground truth boxes of size 20x20 and 10 predicted boxes of size 20x20 in each image. Assume there is only one class of objects. Compare the AP50 (Average Precision at IoU 0.5) computed by 3 of your methods"
   ]
  },
  {
   "cell_type": "code",
   "execution_count": 20,
   "id": "ddd70335-82e6-41fe-be16-9ee33710d907",
   "metadata": {},
   "outputs": [],
   "source": [
    "#generating random boxes within the lengths of the image\n",
    "\n",
    "np.random.seed(42)\n",
    "\n",
    "def generate_random_boxes(number_of_boxes, img_size, box_size):\n",
    "    boxes = []\n",
    "    for _ in range(number_of_boxes):\n",
    "        x1 = np.random.randint(0, img_size - box_size)\n",
    "        y1 = np.random.randint(0, img_size - box_size)\n",
    "        x2 = x1 + box_size\n",
    "        y2 = y1 + box_size\n",
    "        boxes.append((x1, y1, x2, y2))\n",
    "    return boxes\n"
   ]
  },
  {
   "cell_type": "code",
   "execution_count": 21,
   "id": "fe238151-c836-4535-8d09-6ad7d00def72",
   "metadata": {},
   "outputs": [
    {
     "name": "stdout",
     "output_type": "stream",
     "text": [
      "AP50 (Average Precision at IOU 0.5) using Pascal VOC 11 point interpolation method: 0.4844660894660894\n",
      "AP50 (Average Precision at IOU 0.5) using COCO 101-point interpolation method: 0.4860415684425585\n",
      "AP50 (Average Precision at IOU 0.5) using Area under Precision-Recall Curve (AP) method: 0.380422619047619\n"
     ]
    }
   ],
   "source": [
    "#computing the average precision using the three methods(voc11, coco101, auc for the random generated boxes, ground-truths in the randomly generated images)\n",
    "voc_11_values, coco_101_values, auc_values = [], [], []\n",
    "number_of_images = 10\n",
    "\n",
    "for _ in range(number_of_images):\n",
    "    ground_truth_boxes = generate_random_boxes(10, 100, 20)\n",
    "    predicted_truth_boxes = [(box, np.random.rand()) for box in generate_random_boxes(10, 100, 20)] # array contains((box_co-ordinates), confidence_levels) as the boxes are generated randomly the confidence levels are also generated randomly\n",
    "\n",
    "    predicted_truth_boxes.sort(key=lambda x: x[1], reverse=True) #sorting the boxes in descending order of their confidence levels\n",
    "\n",
    "    precision_values, recall_values = generate_precision_recall(predicted_truth_boxes, ground_truth_boxes) #genrating the precision, recalls for the randomly generated predicted boxes and ground truths\n",
    "\n",
    "    pascal_ap = compute_voc11(precision_values, recall_values)\n",
    "    coco_ap = compute_coco101(precision_values, recall_values)\n",
    "    auc_ap = compute_auc(precision_values, recall_values)\n",
    "\n",
    "    voc_11_values.append(pascal_ap)\n",
    "    coco_101_values.append(coco_ap)\n",
    "    auc_values.append(auc_ap)\n",
    "\n",
    "print(f\"AP50 (Average Precision at IOU 0.5) using Pascal VOC 11 point interpolation method: {np.mean(voc_11_values)}\")\n",
    "print(f\"AP50 (Average Precision at IOU 0.5) using COCO 101-point interpolation method: {np.mean(coco_101_values)}\")\n",
    "print(f\"AP50 (Average Precision at IOU 0.5) using Area under Precision-Recall Curve (AP) method: {np.mean(auc_values)}\")"
   ]
  },
  {
   "cell_type": "markdown",
   "id": "f8bae281-8dfc-4d08-a10a-35b34666f47f",
   "metadata": {},
   "source": [
    "#### From the above Average Precision calculated using various methods, COCO-101 point interpolation method has given the best AP50 for randomly generated images.\n",
    "#### The order of methods in ascending order of AP50 calculated is :\n",
    "- ##### Area Under Precision-Recall Curve Method\n",
    "- ##### Pascal VOC 11 point interpolation method\n",
    "- ##### COCO 101-point interpolation method"
   ]
  },
  {
   "cell_type": "markdown",
   "id": "6be722c5-17fd-48cc-a038-abcde77a0655",
   "metadata": {
    "jp-MarkdownHeadingCollapsed": true
   },
   "source": [
    "# Model building and evaluation "
   ]
  },
  {
   "cell_type": "markdown",
   "id": "43134977-b87f-4baa-a5aa-0f7a65c420d7",
   "metadata": {},
   "source": [
    "## Split the data into 80-20 train-test split. Use 10% of training data as validation."
   ]
  },
  {
   "cell_type": "code",
   "execution_count": 22,
   "id": "63308cdb-cb21-4a31-9104-c7292ed828a2",
   "metadata": {},
   "outputs": [],
   "source": [
    "os.makedirs(\"Outputs/images/train\", exist_ok = True)\n",
    "os.makedirs(\"Outputs/images/valid\", exist_ok = True)\n",
    "os.makedirs(\"Outputs/images/test\", exist_ok = True)\n",
    "os.makedirs(\"Outputs/labels/train\", exist_ok = True)\n",
    "os.makedirs(\"Outputs/labels/valid\", exist_ok = True)\n",
    "os.makedirs(\"Outputs/labels/test\", exist_ok = True)"
   ]
  },
  {
   "cell_type": "code",
   "execution_count": 23,
   "id": "288f9d1a-5f95-4e0c-8611-a07c60946628",
   "metadata": {},
   "outputs": [],
   "source": [
    "#extracting the images and labels from the directories\n",
    "label_files = sorted([f for f in os.listdir(labels) if f.endswith(\".txt\")])\n",
    "image_files = sorted([f for f in os.listdir(images) if f.endswith(\".tif\") and (f[:-4] + \".txt\") in label_files])"
   ]
  },
  {
   "cell_type": "code",
   "execution_count": 102,
   "id": "bb3427e7-1357-441f-bdc7-4d54e5a7602c",
   "metadata": {
    "collapsed": true,
    "jupyter": {
     "outputs_hidden": true
    }
   },
   "outputs": [
    {
     "name": "stdout",
     "output_type": "stream",
     "text": [
      "Collecting ultralytics\n",
      "  Downloading ultralytics-8.3.78-py3-none-any.whl.metadata (35 kB)\n",
      "Collecting numpy<=2.1.1,>=1.23.0 (from ultralytics)\n",
      "  Downloading numpy-2.1.1-cp313-cp313-win_amd64.whl.metadata (59 kB)\n",
      "Requirement already satisfied: matplotlib>=3.3.0 in c:\\users\\piyush\\appdata\\local\\programs\\python\\python313\\lib\\site-packages (from ultralytics) (3.10.0)\n",
      "Requirement already satisfied: opencv-python>=4.6.0 in c:\\users\\piyush\\appdata\\local\\programs\\python\\python313\\lib\\site-packages (from ultralytics) (4.11.0.86)\n",
      "Requirement already satisfied: pillow>=7.1.2 in c:\\users\\piyush\\appdata\\local\\programs\\python\\python313\\lib\\site-packages (from ultralytics) (11.1.0)\n",
      "Requirement already satisfied: pyyaml>=5.3.1 in c:\\users\\piyush\\appdata\\local\\programs\\python\\python313\\lib\\site-packages (from ultralytics) (6.0.2)\n",
      "Requirement already satisfied: requests>=2.23.0 in c:\\users\\piyush\\appdata\\local\\programs\\python\\python313\\lib\\site-packages (from ultralytics) (2.32.3)\n",
      "Requirement already satisfied: scipy>=1.4.1 in c:\\users\\piyush\\appdata\\local\\programs\\python\\python313\\lib\\site-packages (from ultralytics) (1.15.2)\n",
      "Collecting torch>=1.8.0 (from ultralytics)\n",
      "  Downloading torch-2.6.0-cp313-cp313-win_amd64.whl.metadata (28 kB)\n",
      "Collecting torchvision>=0.9.0 (from ultralytics)\n",
      "  Downloading torchvision-0.21.0-cp313-cp313-win_amd64.whl.metadata (6.3 kB)\n",
      "Requirement already satisfied: tqdm>=4.64.0 in c:\\users\\piyush\\appdata\\local\\programs\\python\\python313\\lib\\site-packages (from ultralytics) (4.67.1)\n",
      "Requirement already satisfied: psutil in c:\\users\\piyush\\appdata\\local\\programs\\python\\python313\\lib\\site-packages (from ultralytics) (6.1.1)\n",
      "Collecting py-cpuinfo (from ultralytics)\n",
      "  Downloading py_cpuinfo-9.0.0-py3-none-any.whl.metadata (794 bytes)\n",
      "Requirement already satisfied: pandas>=1.1.4 in c:\\users\\piyush\\appdata\\local\\programs\\python\\python313\\lib\\site-packages (from ultralytics) (2.2.3)\n",
      "Collecting seaborn>=0.11.0 (from ultralytics)\n",
      "  Downloading seaborn-0.13.2-py3-none-any.whl.metadata (5.4 kB)\n",
      "Collecting ultralytics-thop>=2.0.0 (from ultralytics)\n",
      "  Downloading ultralytics_thop-2.0.14-py3-none-any.whl.metadata (9.4 kB)\n",
      "Requirement already satisfied: contourpy>=1.0.1 in c:\\users\\piyush\\appdata\\local\\programs\\python\\python313\\lib\\site-packages (from matplotlib>=3.3.0->ultralytics) (1.3.1)\n",
      "Requirement already satisfied: cycler>=0.10 in c:\\users\\piyush\\appdata\\local\\programs\\python\\python313\\lib\\site-packages (from matplotlib>=3.3.0->ultralytics) (0.12.1)\n",
      "Requirement already satisfied: fonttools>=4.22.0 in c:\\users\\piyush\\appdata\\local\\programs\\python\\python313\\lib\\site-packages (from matplotlib>=3.3.0->ultralytics) (4.55.3)\n",
      "Requirement already satisfied: kiwisolver>=1.3.1 in c:\\users\\piyush\\appdata\\local\\programs\\python\\python313\\lib\\site-packages (from matplotlib>=3.3.0->ultralytics) (1.4.8)\n",
      "Requirement already satisfied: packaging>=20.0 in c:\\users\\piyush\\appdata\\local\\programs\\python\\python313\\lib\\site-packages (from matplotlib>=3.3.0->ultralytics) (24.2)\n",
      "Requirement already satisfied: pyparsing>=2.3.1 in c:\\users\\piyush\\appdata\\local\\programs\\python\\python313\\lib\\site-packages (from matplotlib>=3.3.0->ultralytics) (3.2.1)\n",
      "Requirement already satisfied: python-dateutil>=2.7 in c:\\users\\piyush\\appdata\\local\\programs\\python\\python313\\lib\\site-packages (from matplotlib>=3.3.0->ultralytics) (2.9.0.post0)\n",
      "Requirement already satisfied: pytz>=2020.1 in c:\\users\\piyush\\appdata\\local\\programs\\python\\python313\\lib\\site-packages (from pandas>=1.1.4->ultralytics) (2024.2)\n",
      "Requirement already satisfied: tzdata>=2022.7 in c:\\users\\piyush\\appdata\\local\\programs\\python\\python313\\lib\\site-packages (from pandas>=1.1.4->ultralytics) (2024.2)\n",
      "Requirement already satisfied: charset-normalizer<4,>=2 in c:\\users\\piyush\\appdata\\local\\programs\\python\\python313\\lib\\site-packages (from requests>=2.23.0->ultralytics) (3.4.1)\n",
      "Requirement already satisfied: idna<4,>=2.5 in c:\\users\\piyush\\appdata\\local\\programs\\python\\python313\\lib\\site-packages (from requests>=2.23.0->ultralytics) (3.10)\n",
      "Requirement already satisfied: urllib3<3,>=1.21.1 in c:\\users\\piyush\\appdata\\local\\programs\\python\\python313\\lib\\site-packages (from requests>=2.23.0->ultralytics) (2.3.0)\n",
      "Requirement already satisfied: certifi>=2017.4.17 in c:\\users\\piyush\\appdata\\local\\programs\\python\\python313\\lib\\site-packages (from requests>=2.23.0->ultralytics) (2024.12.14)\n",
      "Collecting filelock (from torch>=1.8.0->ultralytics)\n",
      "  Downloading filelock-3.17.0-py3-none-any.whl.metadata (2.9 kB)\n",
      "Requirement already satisfied: typing-extensions>=4.10.0 in c:\\users\\piyush\\appdata\\local\\programs\\python\\python313\\lib\\site-packages (from torch>=1.8.0->ultralytics) (4.12.2)\n",
      "Collecting networkx (from torch>=1.8.0->ultralytics)\n",
      "  Using cached networkx-3.4.2-py3-none-any.whl.metadata (6.3 kB)\n",
      "Requirement already satisfied: jinja2 in c:\\users\\piyush\\appdata\\local\\programs\\python\\python313\\lib\\site-packages (from torch>=1.8.0->ultralytics) (3.1.5)\n",
      "Collecting fsspec (from torch>=1.8.0->ultralytics)\n",
      "  Downloading fsspec-2025.2.0-py3-none-any.whl.metadata (11 kB)\n",
      "Requirement already satisfied: setuptools in c:\\users\\piyush\\appdata\\local\\programs\\python\\python313\\lib\\site-packages (from torch>=1.8.0->ultralytics) (75.8.0)\n",
      "Collecting sympy==1.13.1 (from torch>=1.8.0->ultralytics)\n",
      "  Using cached sympy-1.13.1-py3-none-any.whl.metadata (12 kB)\n",
      "Collecting mpmath<1.4,>=1.1.0 (from sympy==1.13.1->torch>=1.8.0->ultralytics)\n",
      "  Using cached mpmath-1.3.0-py3-none-any.whl.metadata (8.6 kB)\n",
      "Requirement already satisfied: colorama in c:\\users\\piyush\\appdata\\local\\programs\\python\\python313\\lib\\site-packages (from tqdm>=4.64.0->ultralytics) (0.4.6)\n",
      "Requirement already satisfied: six>=1.5 in c:\\users\\piyush\\appdata\\local\\programs\\python\\python313\\lib\\site-packages (from python-dateutil>=2.7->matplotlib>=3.3.0->ultralytics) (1.17.0)\n",
      "Requirement already satisfied: MarkupSafe>=2.0 in c:\\users\\piyush\\appdata\\local\\programs\\python\\python313\\lib\\site-packages (from jinja2->torch>=1.8.0->ultralytics) (3.0.2)\n",
      "Downloading ultralytics-8.3.78-py3-none-any.whl (921 kB)\n",
      "   ---------------------------------------- 0.0/921.5 kB ? eta -:--:--\n",
      "   ---------------------------------------- 921.5/921.5 kB 6.6 MB/s eta 0:00:00\n",
      "Downloading numpy-2.1.1-cp313-cp313-win_amd64.whl (12.6 MB)\n",
      "   ---------------------------------------- 0.0/12.6 MB ? eta -:--:--\n",
      "   - -------------------------------------- 0.5/12.6 MB 4.5 MB/s eta 0:00:03\n",
      "   ----- ---------------------------------- 1.8/12.6 MB 4.0 MB/s eta 0:00:03\n",
      "   ------ --------------------------------- 2.1/12.6 MB 3.1 MB/s eta 0:00:04\n",
      "   ---------- ----------------------------- 3.1/12.6 MB 3.7 MB/s eta 0:00:03\n",
      "   ------------ --------------------------- 3.9/12.6 MB 3.7 MB/s eta 0:00:03\n",
      "   --------------- ------------------------ 5.0/12.6 MB 3.8 MB/s eta 0:00:03\n",
      "   ------------------ --------------------- 5.8/12.6 MB 3.8 MB/s eta 0:00:02\n",
      "   -------------------- ------------------- 6.6/12.6 MB 3.8 MB/s eta 0:00:02\n",
      "   ----------------------- ---------------- 7.3/12.6 MB 3.8 MB/s eta 0:00:02\n",
      "   ------------------------- -------------- 8.1/12.6 MB 3.8 MB/s eta 0:00:02\n",
      "   ---------------------------- ----------- 8.9/12.6 MB 3.8 MB/s eta 0:00:01\n",
      "   ------------------------------ --------- 9.7/12.6 MB 3.8 MB/s eta 0:00:01\n",
      "   --------------------------------- ------ 10.5/12.6 MB 3.8 MB/s eta 0:00:01\n",
      "   ----------------------------------- ---- 11.3/12.6 MB 3.8 MB/s eta 0:00:01\n",
      "   -------------------------------------- - 12.1/12.6 MB 3.8 MB/s eta 0:00:01\n",
      "   ---------------------------------------- 12.6/12.6 MB 3.8 MB/s eta 0:00:00\n",
      "Downloading seaborn-0.13.2-py3-none-any.whl (294 kB)\n",
      "Downloading torch-2.6.0-cp313-cp313-win_amd64.whl (204.1 MB)\n",
      "   ---------------------------------------- 0.0/204.1 MB ? eta -:--:--\n",
      "   ---------------------------------------- 1.0/204.1 MB 5.1 MB/s eta 0:00:40\n",
      "   ---------------------------------------- 1.8/204.1 MB 4.4 MB/s eta 0:00:47\n",
      "    --------------------------------------- 2.6/204.1 MB 4.2 MB/s eta 0:00:48\n",
      "    --------------------------------------- 3.4/204.1 MB 4.1 MB/s eta 0:00:49\n",
      "    --------------------------------------- 4.5/204.1 MB 4.1 MB/s eta 0:00:50\n",
      "   - -------------------------------------- 5.2/204.1 MB 4.0 MB/s eta 0:00:50\n",
      "   - -------------------------------------- 6.0/204.1 MB 4.0 MB/s eta 0:00:50\n",
      "   - -------------------------------------- 6.8/204.1 MB 4.0 MB/s eta 0:00:50\n",
      "   - -------------------------------------- 7.6/204.1 MB 4.0 MB/s eta 0:00:50\n",
      "   - -------------------------------------- 8.4/204.1 MB 4.0 MB/s eta 0:00:50\n",
      "   - -------------------------------------- 9.4/204.1 MB 4.0 MB/s eta 0:00:50\n",
      "   -- ------------------------------------- 10.2/204.1 MB 4.0 MB/s eta 0:00:50\n",
      "   -- ------------------------------------- 11.0/204.1 MB 4.0 MB/s eta 0:00:49\n",
      "   -- ------------------------------------- 11.8/204.1 MB 3.9 MB/s eta 0:00:49\n",
      "   -- ------------------------------------- 12.6/204.1 MB 3.9 MB/s eta 0:00:49\n",
      "   -- ------------------------------------- 13.4/204.1 MB 3.9 MB/s eta 0:00:49\n",
      "   -- ------------------------------------- 14.2/204.1 MB 3.9 MB/s eta 0:00:49\n",
      "   -- ------------------------------------- 14.9/204.1 MB 3.9 MB/s eta 0:00:49\n",
      "   --- ------------------------------------ 15.7/204.1 MB 3.9 MB/s eta 0:00:48\n",
      "   --- ------------------------------------ 16.5/204.1 MB 3.9 MB/s eta 0:00:48\n",
      "   --- ------------------------------------ 17.6/204.1 MB 3.9 MB/s eta 0:00:48\n",
      "   --- ------------------------------------ 18.4/204.1 MB 3.9 MB/s eta 0:00:48\n",
      "   --- ------------------------------------ 19.1/204.1 MB 3.9 MB/s eta 0:00:48\n",
      "   --- ------------------------------------ 19.9/204.1 MB 3.9 MB/s eta 0:00:47\n",
      "   ---- ----------------------------------- 20.7/204.1 MB 3.9 MB/s eta 0:00:47\n",
      "   ---- ----------------------------------- 21.5/204.1 MB 3.9 MB/s eta 0:00:47\n",
      "   ---- ----------------------------------- 22.3/204.1 MB 3.9 MB/s eta 0:00:47\n",
      "   ---- ----------------------------------- 23.1/204.1 MB 3.9 MB/s eta 0:00:47\n",
      "   ---- ----------------------------------- 23.9/204.1 MB 3.9 MB/s eta 0:00:47\n",
      "   ---- ----------------------------------- 24.4/204.1 MB 3.8 MB/s eta 0:00:47\n",
      "   ----- ---------------------------------- 25.7/204.1 MB 3.9 MB/s eta 0:00:46\n",
      "   ----- ---------------------------------- 26.5/204.1 MB 3.9 MB/s eta 0:00:46\n",
      "   ----- ---------------------------------- 27.3/204.1 MB 3.9 MB/s eta 0:00:46\n",
      "   ----- ---------------------------------- 28.0/204.1 MB 3.9 MB/s eta 0:00:46\n",
      "   ----- ---------------------------------- 28.8/204.1 MB 3.9 MB/s eta 0:00:45\n",
      "   ----- ---------------------------------- 29.9/204.1 MB 3.9 MB/s eta 0:00:45\n",
      "   ------ --------------------------------- 30.7/204.1 MB 3.9 MB/s eta 0:00:45\n",
      "   ------ --------------------------------- 31.5/204.1 MB 3.9 MB/s eta 0:00:45\n",
      "   ------ --------------------------------- 32.2/204.1 MB 3.9 MB/s eta 0:00:44\n",
      "   ------ --------------------------------- 33.0/204.1 MB 3.9 MB/s eta 0:00:44\n",
      "   ------ --------------------------------- 33.8/204.1 MB 3.9 MB/s eta 0:00:44\n",
      "   ------ --------------------------------- 34.6/204.1 MB 3.9 MB/s eta 0:00:44\n",
      "   ------ --------------------------------- 35.7/204.1 MB 3.9 MB/s eta 0:00:44\n",
      "   ------- -------------------------------- 36.4/204.1 MB 3.9 MB/s eta 0:00:43\n",
      "   ------- -------------------------------- 37.2/204.1 MB 3.9 MB/s eta 0:00:43\n",
      "   ------- -------------------------------- 38.0/204.1 MB 3.9 MB/s eta 0:00:43\n",
      "   ------- -------------------------------- 38.8/204.1 MB 3.9 MB/s eta 0:00:43\n",
      "   ------- -------------------------------- 39.6/204.1 MB 3.9 MB/s eta 0:00:43\n",
      "   ------- -------------------------------- 40.6/204.1 MB 3.9 MB/s eta 0:00:42\n",
      "   -------- ------------------------------- 41.7/204.1 MB 3.9 MB/s eta 0:00:42\n",
      "   -------- ------------------------------- 42.5/204.1 MB 3.9 MB/s eta 0:00:42\n",
      "   -------- ------------------------------- 43.3/204.1 MB 3.9 MB/s eta 0:00:42\n",
      "   -------- ------------------------------- 44.0/204.1 MB 3.9 MB/s eta 0:00:42\n",
      "   -------- ------------------------------- 44.6/204.1 MB 3.9 MB/s eta 0:00:41\n",
      "   -------- ------------------------------- 45.9/204.1 MB 3.9 MB/s eta 0:00:41\n",
      "   --------- ------------------------------ 46.7/204.1 MB 3.9 MB/s eta 0:00:41\n",
      "   --------- ------------------------------ 47.4/204.1 MB 3.9 MB/s eta 0:00:41\n",
      "   --------- ------------------------------ 48.2/204.1 MB 3.9 MB/s eta 0:00:40\n",
      "   --------- ------------------------------ 49.0/204.1 MB 3.9 MB/s eta 0:00:40\n",
      "   --------- ------------------------------ 49.8/204.1 MB 3.9 MB/s eta 0:00:40\n",
      "   --------- ------------------------------ 50.6/204.1 MB 3.9 MB/s eta 0:00:40\n",
      "   ---------- ----------------------------- 51.4/204.1 MB 3.9 MB/s eta 0:00:40\n",
      "   ---------- ----------------------------- 52.2/204.1 MB 3.9 MB/s eta 0:00:39\n",
      "   ---------- ----------------------------- 53.0/204.1 MB 3.9 MB/s eta 0:00:39\n",
      "   ---------- ----------------------------- 54.0/204.1 MB 3.9 MB/s eta 0:00:39\n",
      "   ---------- ----------------------------- 54.8/204.1 MB 3.9 MB/s eta 0:00:39\n",
      "   ---------- ----------------------------- 55.6/204.1 MB 3.9 MB/s eta 0:00:39\n",
      "   ----------- ---------------------------- 56.4/204.1 MB 3.9 MB/s eta 0:00:38\n",
      "   ----------- ---------------------------- 57.1/204.1 MB 3.9 MB/s eta 0:00:38\n",
      "   ----------- ---------------------------- 57.9/204.1 MB 3.9 MB/s eta 0:00:38\n",
      "   ----------- ---------------------------- 59.0/204.1 MB 3.9 MB/s eta 0:00:38\n",
      "   ----------- ---------------------------- 59.8/204.1 MB 3.9 MB/s eta 0:00:38\n",
      "   ----------- ---------------------------- 60.6/204.1 MB 3.9 MB/s eta 0:00:37\n",
      "   ------------ --------------------------- 61.3/204.1 MB 3.9 MB/s eta 0:00:37\n",
      "   ------------ --------------------------- 62.1/204.1 MB 3.9 MB/s eta 0:00:37\n",
      "   ------------ --------------------------- 62.9/204.1 MB 3.9 MB/s eta 0:00:37\n",
      "   ------------ --------------------------- 63.7/204.1 MB 3.9 MB/s eta 0:00:37\n",
      "   ------------ --------------------------- 64.5/204.1 MB 3.9 MB/s eta 0:00:36\n",
      "   ------------ --------------------------- 65.3/204.1 MB 3.9 MB/s eta 0:00:36\n",
      "   ------------ --------------------------- 66.1/204.1 MB 3.9 MB/s eta 0:00:36\n",
      "   ------------- -------------------------- 67.1/204.1 MB 3.9 MB/s eta 0:00:36\n",
      "   ------------- -------------------------- 67.9/204.1 MB 3.9 MB/s eta 0:00:35\n",
      "   ------------- -------------------------- 68.7/204.1 MB 3.9 MB/s eta 0:00:35\n",
      "   ------------- -------------------------- 69.5/204.1 MB 3.9 MB/s eta 0:00:35\n",
      "   ------------- -------------------------- 70.3/204.1 MB 3.9 MB/s eta 0:00:35\n",
      "   ------------- -------------------------- 71.0/204.1 MB 3.9 MB/s eta 0:00:35\n",
      "   -------------- ------------------------- 71.8/204.1 MB 3.9 MB/s eta 0:00:34\n",
      "   -------------- ------------------------- 72.6/204.1 MB 3.9 MB/s eta 0:00:34\n",
      "   -------------- ------------------------- 73.4/204.1 MB 3.9 MB/s eta 0:00:34\n",
      "   -------------- ------------------------- 74.2/204.1 MB 3.9 MB/s eta 0:00:34\n",
      "   -------------- ------------------------- 75.0/204.1 MB 3.9 MB/s eta 0:00:34\n",
      "   -------------- ------------------------- 75.8/204.1 MB 3.9 MB/s eta 0:00:33\n",
      "   --------------- ------------------------ 76.8/204.1 MB 3.9 MB/s eta 0:00:33\n",
      "   --------------- ------------------------ 77.6/204.1 MB 3.9 MB/s eta 0:00:33\n",
      "   --------------- ------------------------ 78.4/204.1 MB 3.9 MB/s eta 0:00:33\n",
      "   --------------- ------------------------ 79.2/204.1 MB 3.9 MB/s eta 0:00:33\n",
      "   --------------- ------------------------ 80.0/204.1 MB 3.9 MB/s eta 0:00:32\n",
      "   --------------- ------------------------ 80.7/204.1 MB 3.9 MB/s eta 0:00:32\n",
      "   --------------- ------------------------ 81.5/204.1 MB 3.9 MB/s eta 0:00:32\n",
      "   ---------------- ----------------------- 82.3/204.1 MB 3.9 MB/s eta 0:00:32\n",
      "   ---------------- ----------------------- 83.1/204.1 MB 3.9 MB/s eta 0:00:32\n",
      "   ---------------- ----------------------- 83.9/204.1 MB 3.9 MB/s eta 0:00:31\n",
      "   ---------------- ----------------------- 84.9/204.1 MB 3.9 MB/s eta 0:00:31\n",
      "   ---------------- ----------------------- 85.7/204.1 MB 3.9 MB/s eta 0:00:31\n",
      "   ---------------- ----------------------- 86.0/204.1 MB 3.9 MB/s eta 0:00:31\n",
      "   ----------------- ---------------------- 87.3/204.1 MB 3.9 MB/s eta 0:00:31\n",
      "   ----------------- ---------------------- 88.1/204.1 MB 3.9 MB/s eta 0:00:30\n",
      "   ----------------- ---------------------- 88.9/204.1 MB 3.9 MB/s eta 0:00:30\n",
      "   ----------------- ---------------------- 89.7/204.1 MB 3.9 MB/s eta 0:00:30\n",
      "   ----------------- ---------------------- 90.4/204.1 MB 3.9 MB/s eta 0:00:30\n",
      "   ----------------- ---------------------- 91.2/204.1 MB 3.9 MB/s eta 0:00:29\n",
      "   ------------------ --------------------- 92.0/204.1 MB 3.9 MB/s eta 0:00:29\n",
      "   ------------------ --------------------- 92.8/204.1 MB 3.9 MB/s eta 0:00:29\n",
      "   ------------------ --------------------- 93.8/204.1 MB 3.9 MB/s eta 0:00:29\n",
      "   ------------------ --------------------- 94.6/204.1 MB 3.9 MB/s eta 0:00:29\n",
      "   ------------------ --------------------- 95.4/204.1 MB 3.9 MB/s eta 0:00:28\n",
      "   ------------------ --------------------- 96.2/204.1 MB 3.9 MB/s eta 0:00:28\n",
      "   ------------------- -------------------- 97.0/204.1 MB 3.9 MB/s eta 0:00:28\n",
      "   ------------------- -------------------- 97.8/204.1 MB 3.9 MB/s eta 0:00:28\n",
      "   ------------------- -------------------- 98.6/204.1 MB 3.9 MB/s eta 0:00:28\n",
      "   ------------------- -------------------- 99.4/204.1 MB 3.9 MB/s eta 0:00:27\n",
      "   ------------------- -------------------- 100.1/204.1 MB 3.9 MB/s eta 0:00:27\n",
      "   ------------------- -------------------- 100.9/204.1 MB 3.9 MB/s eta 0:00:27\n",
      "   ------------------- -------------------- 102.0/204.1 MB 3.9 MB/s eta 0:00:27\n",
      "   -------------------- ------------------- 102.8/204.1 MB 3.9 MB/s eta 0:00:27\n",
      "   -------------------- ------------------- 103.5/204.1 MB 3.9 MB/s eta 0:00:26\n",
      "   -------------------- ------------------- 104.3/204.1 MB 3.9 MB/s eta 0:00:26\n",
      "   -------------------- ------------------- 104.9/204.1 MB 3.9 MB/s eta 0:00:26\n",
      "   -------------------- ------------------- 105.9/204.1 MB 3.9 MB/s eta 0:00:26\n",
      "   -------------------- ------------------- 106.7/204.1 MB 3.9 MB/s eta 0:00:26\n",
      "   --------------------- ------------------ 107.5/204.1 MB 3.9 MB/s eta 0:00:25\n",
      "   --------------------- ------------------ 108.3/204.1 MB 3.9 MB/s eta 0:00:25\n",
      "   --------------------- ------------------ 109.1/204.1 MB 3.9 MB/s eta 0:00:25\n",
      "   --------------------- ------------------ 109.8/204.1 MB 3.9 MB/s eta 0:00:25\n",
      "   --------------------- ------------------ 110.9/204.1 MB 3.9 MB/s eta 0:00:24\n",
      "   --------------------- ------------------ 111.7/204.1 MB 3.9 MB/s eta 0:00:24\n",
      "   ---------------------- ----------------- 112.5/204.1 MB 3.9 MB/s eta 0:00:24\n",
      "   ---------------------- ----------------- 113.2/204.1 MB 3.9 MB/s eta 0:00:24\n",
      "   ---------------------- ----------------- 114.0/204.1 MB 3.9 MB/s eta 0:00:24\n",
      "   ---------------------- ----------------- 114.8/204.1 MB 3.9 MB/s eta 0:00:23\n",
      "   ---------------------- ----------------- 115.6/204.1 MB 3.9 MB/s eta 0:00:23\n",
      "   ---------------------- ----------------- 116.4/204.1 MB 3.9 MB/s eta 0:00:23\n",
      "   ---------------------- ----------------- 117.2/204.1 MB 3.9 MB/s eta 0:00:23\n",
      "   ----------------------- ---------------- 118.0/204.1 MB 3.9 MB/s eta 0:00:23\n",
      "   ----------------------- ---------------- 118.8/204.1 MB 3.9 MB/s eta 0:00:22\n",
      "   ----------------------- ---------------- 119.5/204.1 MB 3.9 MB/s eta 0:00:22\n",
      "   ----------------------- ---------------- 120.6/204.1 MB 3.9 MB/s eta 0:00:22\n",
      "   ----------------------- ---------------- 121.4/204.1 MB 3.9 MB/s eta 0:00:22\n",
      "   ----------------------- ---------------- 122.2/204.1 MB 3.9 MB/s eta 0:00:22\n",
      "   ------------------------ --------------- 122.9/204.1 MB 3.9 MB/s eta 0:00:21\n",
      "   ------------------------ --------------- 123.7/204.1 MB 3.9 MB/s eta 0:00:21\n",
      "   ------------------------ --------------- 124.5/204.1 MB 3.9 MB/s eta 0:00:21\n",
      "   ------------------------ --------------- 125.6/204.1 MB 3.9 MB/s eta 0:00:21\n",
      "   ------------------------ --------------- 126.4/204.1 MB 3.9 MB/s eta 0:00:21\n",
      "   ------------------------ --------------- 127.1/204.1 MB 3.9 MB/s eta 0:00:20\n",
      "   ------------------------- -------------- 127.9/204.1 MB 3.9 MB/s eta 0:00:20\n",
      "   ------------------------- -------------- 128.7/204.1 MB 3.9 MB/s eta 0:00:20\n",
      "   ------------------------- -------------- 129.8/204.1 MB 3.9 MB/s eta 0:00:20\n",
      "   ------------------------- -------------- 130.5/204.1 MB 3.9 MB/s eta 0:00:19\n",
      "   ------------------------- -------------- 131.3/204.1 MB 3.9 MB/s eta 0:00:19\n",
      "   ------------------------- -------------- 132.1/204.1 MB 3.9 MB/s eta 0:00:19\n",
      "   -------------------------- ------------- 132.9/204.1 MB 3.9 MB/s eta 0:00:19\n",
      "   -------------------------- ------------- 133.7/204.1 MB 3.9 MB/s eta 0:00:19\n",
      "   -------------------------- ------------- 134.5/204.1 MB 3.9 MB/s eta 0:00:18\n",
      "   -------------------------- ------------- 135.3/204.1 MB 3.9 MB/s eta 0:00:18\n",
      "   -------------------------- ------------- 136.1/204.1 MB 3.9 MB/s eta 0:00:18\n",
      "   -------------------------- ------------- 136.8/204.1 MB 3.9 MB/s eta 0:00:18\n",
      "   --------------------------- ------------ 137.9/204.1 MB 3.9 MB/s eta 0:00:18\n",
      "   --------------------------- ------------ 138.7/204.1 MB 3.9 MB/s eta 0:00:17\n",
      "   --------------------------- ------------ 139.5/204.1 MB 3.9 MB/s eta 0:00:17\n",
      "   --------------------------- ------------ 140.2/204.1 MB 3.9 MB/s eta 0:00:17\n",
      "   --------------------------- ------------ 141.0/204.1 MB 3.9 MB/s eta 0:00:17\n",
      "   --------------------------- ------------ 141.8/204.1 MB 3.9 MB/s eta 0:00:17\n",
      "   --------------------------- ------------ 142.6/204.1 MB 3.9 MB/s eta 0:00:16\n",
      "   ---------------------------- ----------- 143.4/204.1 MB 3.9 MB/s eta 0:00:16\n",
      "   ---------------------------- ----------- 144.2/204.1 MB 3.9 MB/s eta 0:00:16\n",
      "   ---------------------------- ----------- 145.0/204.1 MB 3.9 MB/s eta 0:00:16\n",
      "   ---------------------------- ----------- 145.8/204.1 MB 3.9 MB/s eta 0:00:16\n",
      "   ---------------------------- ----------- 146.5/204.1 MB 3.9 MB/s eta 0:00:15\n",
      "   ---------------------------- ----------- 147.3/204.1 MB 3.9 MB/s eta 0:00:15\n",
      "   ----------------------------- ---------- 148.4/204.1 MB 3.9 MB/s eta 0:00:15\n",
      "   ----------------------------- ---------- 149.2/204.1 MB 3.9 MB/s eta 0:00:15\n",
      "   ----------------------------- ---------- 149.9/204.1 MB 3.9 MB/s eta 0:00:14\n",
      "   ----------------------------- ---------- 150.7/204.1 MB 3.9 MB/s eta 0:00:14\n",
      "   ----------------------------- ---------- 151.5/204.1 MB 3.9 MB/s eta 0:00:14\n",
      "   ----------------------------- ---------- 152.3/204.1 MB 3.9 MB/s eta 0:00:14\n",
      "   ----------------------------- ---------- 153.1/204.1 MB 3.9 MB/s eta 0:00:14\n",
      "   ------------------------------ --------- 153.9/204.1 MB 3.9 MB/s eta 0:00:13\n",
      "   ------------------------------ --------- 154.7/204.1 MB 3.9 MB/s eta 0:00:13\n",
      "   ------------------------------ --------- 155.5/204.1 MB 3.9 MB/s eta 0:00:13\n",
      "   ------------------------------ --------- 156.2/204.1 MB 3.9 MB/s eta 0:00:13\n",
      "   ------------------------------ --------- 157.0/204.1 MB 3.9 MB/s eta 0:00:13\n",
      "   ------------------------------ --------- 157.8/204.1 MB 3.9 MB/s eta 0:00:12\n",
      "   ------------------------------- -------- 158.9/204.1 MB 3.9 MB/s eta 0:00:12\n",
      "   ------------------------------- -------- 159.6/204.1 MB 3.9 MB/s eta 0:00:12\n",
      "   ------------------------------- -------- 160.4/204.1 MB 3.9 MB/s eta 0:00:12\n",
      "   ------------------------------- -------- 161.2/204.1 MB 3.9 MB/s eta 0:00:12\n",
      "   ------------------------------- -------- 162.0/204.1 MB 3.9 MB/s eta 0:00:11\n",
      "   ------------------------------- -------- 162.8/204.1 MB 3.9 MB/s eta 0:00:11\n",
      "   -------------------------------- ------- 163.6/204.1 MB 3.9 MB/s eta 0:00:11\n",
      "   -------------------------------- ------- 164.4/204.1 MB 3.9 MB/s eta 0:00:11\n",
      "   -------------------------------- ------- 164.6/204.1 MB 3.9 MB/s eta 0:00:11\n",
      "   -------------------------------- ------- 165.9/204.1 MB 3.9 MB/s eta 0:00:10\n",
      "   -------------------------------- ------- 166.7/204.1 MB 3.9 MB/s eta 0:00:10\n",
      "   -------------------------------- ------- 167.8/204.1 MB 3.9 MB/s eta 0:00:10\n",
      "   --------------------------------- ------ 168.6/204.1 MB 3.9 MB/s eta 0:00:10\n",
      "   --------------------------------- ------ 169.3/204.1 MB 3.9 MB/s eta 0:00:09\n",
      "   --------------------------------- ------ 170.1/204.1 MB 3.9 MB/s eta 0:00:09\n",
      "   --------------------------------- ------ 170.9/204.1 MB 3.9 MB/s eta 0:00:09\n",
      "   --------------------------------- ------ 171.7/204.1 MB 3.9 MB/s eta 0:00:09\n",
      "   --------------------------------- ------ 172.5/204.1 MB 3.9 MB/s eta 0:00:09\n",
      "   --------------------------------- ------ 173.3/204.1 MB 3.9 MB/s eta 0:00:08\n",
      "   ---------------------------------- ----- 174.3/204.1 MB 3.9 MB/s eta 0:00:08\n",
      "   ---------------------------------- ----- 175.1/204.1 MB 3.9 MB/s eta 0:00:08\n",
      "   ---------------------------------- ----- 175.9/204.1 MB 3.9 MB/s eta 0:00:08\n",
      "   ---------------------------------- ----- 176.7/204.1 MB 3.9 MB/s eta 0:00:08\n",
      "   ---------------------------------- ----- 177.5/204.1 MB 3.9 MB/s eta 0:00:07\n",
      "   ---------------------------------- ----- 178.3/204.1 MB 3.9 MB/s eta 0:00:07\n",
      "   ----------------------------------- ---- 179.0/204.1 MB 3.9 MB/s eta 0:00:07\n",
      "   ----------------------------------- ---- 180.1/204.1 MB 3.9 MB/s eta 0:00:07\n",
      "   ----------------------------------- ---- 180.9/204.1 MB 3.9 MB/s eta 0:00:06\n",
      "   ----------------------------------- ---- 181.7/204.1 MB 3.9 MB/s eta 0:00:06\n",
      "   ----------------------------------- ---- 182.5/204.1 MB 3.9 MB/s eta 0:00:06\n",
      "   ----------------------------------- ---- 183.2/204.1 MB 3.9 MB/s eta 0:00:06\n",
      "   ------------------------------------ --- 184.3/204.1 MB 3.9 MB/s eta 0:00:06\n",
      "   ------------------------------------ --- 185.1/204.1 MB 3.9 MB/s eta 0:00:05\n",
      "   ------------------------------------ --- 185.9/204.1 MB 3.9 MB/s eta 0:00:05\n",
      "   ------------------------------------ --- 186.6/204.1 MB 3.9 MB/s eta 0:00:05\n",
      "   ------------------------------------ --- 187.4/204.1 MB 3.9 MB/s eta 0:00:05\n",
      "   ------------------------------------ --- 188.2/204.1 MB 3.9 MB/s eta 0:00:05\n",
      "   ------------------------------------- -- 189.0/204.1 MB 3.9 MB/s eta 0:00:04\n",
      "   ------------------------------------- -- 189.8/204.1 MB 3.9 MB/s eta 0:00:04\n",
      "   ------------------------------------- -- 190.8/204.1 MB 3.9 MB/s eta 0:00:04\n",
      "   ------------------------------------- -- 191.6/204.1 MB 3.9 MB/s eta 0:00:04\n",
      "   ------------------------------------- -- 192.4/204.1 MB 3.9 MB/s eta 0:00:04\n",
      "   ------------------------------------- -- 193.2/204.1 MB 3.9 MB/s eta 0:00:03\n",
      "   -------------------------------------- - 194.0/204.1 MB 3.9 MB/s eta 0:00:03\n",
      "   -------------------------------------- - 194.8/204.1 MB 3.9 MB/s eta 0:00:03\n",
      "   -------------------------------------- - 195.6/204.1 MB 3.9 MB/s eta 0:00:03\n",
      "   -------------------------------------- - 196.3/204.1 MB 3.9 MB/s eta 0:00:03\n",
      "   -------------------------------------- - 197.1/204.1 MB 3.9 MB/s eta 0:00:02\n",
      "   -------------------------------------- - 197.9/204.1 MB 3.9 MB/s eta 0:00:02\n",
      "   -------------------------------------- - 198.7/204.1 MB 3.9 MB/s eta 0:00:02\n",
      "   ---------------------------------------  199.5/204.1 MB 3.9 MB/s eta 0:00:02\n",
      "   ---------------------------------------  200.5/204.1 MB 3.9 MB/s eta 0:00:01\n",
      "   ---------------------------------------  201.3/204.1 MB 3.9 MB/s eta 0:00:01\n",
      "   ---------------------------------------  202.1/204.1 MB 3.9 MB/s eta 0:00:01\n",
      "   ---------------------------------------  202.9/204.1 MB 3.9 MB/s eta 0:00:01\n",
      "   ---------------------------------------  203.7/204.1 MB 3.9 MB/s eta 0:00:01\n",
      "   ---------------------------------------  203.9/204.1 MB 3.9 MB/s eta 0:00:01\n",
      "   ---------------------------------------  203.9/204.1 MB 3.9 MB/s eta 0:00:01\n",
      "   ---------------------------------------  203.9/204.1 MB 3.9 MB/s eta 0:00:01\n",
      "   ---------------------------------------- 204.1/204.1 MB 3.8 MB/s eta 0:00:00\n",
      "Using cached sympy-1.13.1-py3-none-any.whl (6.2 MB)\n",
      "Downloading torchvision-0.21.0-cp313-cp313-win_amd64.whl (1.6 MB)\n",
      "   ---------------------------------------- 0.0/1.6 MB ? eta -:--:--\n",
      "   -------------------------- ------------- 1.0/1.6 MB 6.3 MB/s eta 0:00:01\n",
      "   ---------------------------------------- 1.6/1.6 MB 4.6 MB/s eta 0:00:00\n",
      "Downloading ultralytics_thop-2.0.14-py3-none-any.whl (26 kB)\n",
      "Downloading py_cpuinfo-9.0.0-py3-none-any.whl (22 kB)\n",
      "Downloading filelock-3.17.0-py3-none-any.whl (16 kB)\n",
      "Downloading fsspec-2025.2.0-py3-none-any.whl (184 kB)\n",
      "Using cached networkx-3.4.2-py3-none-any.whl (1.7 MB)\n",
      "Using cached mpmath-1.3.0-py3-none-any.whl (536 kB)\n",
      "Installing collected packages: py-cpuinfo, mpmath, sympy, numpy, networkx, fsspec, filelock, torch, ultralytics-thop, torchvision, seaborn, ultralytics\n",
      "  Attempting uninstall: numpy\n",
      "    Found existing installation: numpy 2.2.1\n",
      "    Uninstalling numpy-2.2.1:\n",
      "      Successfully uninstalled numpy-2.2.1\n",
      "Successfully installed filelock-3.17.0 fsspec-2025.2.0 mpmath-1.3.0 networkx-3.4.2 numpy-2.1.1 py-cpuinfo-9.0.0 seaborn-0.13.2 sympy-1.13.1 torch-2.6.0 torchvision-0.21.0 ultralytics-8.3.78 ultralytics-thop-2.0.14\n",
      "Note: you may need to restart the kernel to use updated packages.\n"
     ]
    },
    {
     "name": "stderr",
     "output_type": "stream",
     "text": [
      "  WARNING: Failed to remove contents in a temporary directory 'C:\\Users\\Piyush\\AppData\\Local\\Programs\\Python\\Python313\\Lib\\site-packages\\~umpy.libs'.\n",
      "  You can safely remove it manually.\n",
      "  WARNING: Failed to remove contents in a temporary directory 'C:\\Users\\Piyush\\AppData\\Local\\Programs\\Python\\Python313\\Lib\\site-packages\\~umpy'.\n",
      "  You can safely remove it manually.\n"
     ]
    }
   ],
   "source": [
    "pip install ultralytics"
   ]
  },
  {
   "cell_type": "code",
   "execution_count": 24,
   "id": "2876e5bc-d30f-4756-81b7-e2579a3f944a",
   "metadata": {},
   "outputs": [],
   "source": [
    "#Splitting of data to 80% train data(90% train data, 10% validation data), 20% test data \n",
    "\n",
    "train_img, test_img = train_test_split(image_files, test_size = 0.2, random_state = 42)\n",
    "train_img, valid_img = train_test_split(train_img, test_size = 0.1, random_state = 42)"
   ]
  },
  {
   "cell_type": "code",
   "execution_count": 25,
   "id": "2987a19b-38a2-45c0-a1c0-3b81dc441ef2",
   "metadata": {},
   "outputs": [],
   "source": [
    "#Copying of data from the combined datasets to their respective directories\n",
    "\n",
    "def move_files(files, img_src, label_src, img_dest, label_dest):\n",
    "    for file in files:\n",
    "        label_file = file.replace(\".tif\", \".txt\")\n",
    "        \n",
    "        if label_file in label_files:\n",
    "            shutil.copy(os.path.join(img_src, file), os.path.join(img_dest, file))\n",
    "            shutil.copy(os.path.join(label_src, label_file), os.path.join(label_dest, label_file))\n",
    "\n",
    "move_files(train_img, images, labels, \"Outputs/images/train\", \"Outputs/labels/train\")\n",
    "move_files(valid_img, images, labels, \"Outputs/images/valid\", \"Outputs/labels/valid\")\n",
    "move_files(test_img, images, labels, \"Outputs/images/test\", \"Outputs/labels/test\")"
   ]
  },
  {
   "cell_type": "code",
   "execution_count": 42,
   "id": "ed49c969-7c03-4298-96fd-a1de6ecb68f3",
   "metadata": {},
   "outputs": [],
   "source": [
    "yaml_string = \"\"\"path: Outputs\n",
    "\n",
    "train: images/train\n",
    "val: images/valid\n",
    "test: images/test\n",
    "\n",
    "nc : 3\n",
    "names: ['label-1', 'label-2', 'label-3']\"\"\"\n",
    "\n",
    "with open(\"data.yaml\", 'w') as file:\n",
    "    file.write(yaml_string)"
   ]
  },
  {
   "cell_type": "markdown",
   "id": "98e939e6-40f1-4c1d-ad2f-6165dc9602aa",
   "metadata": {},
   "source": [
    "- ### Use any model from Ultralytics like YOLO to train the object detection model. Show that validation loss is converged. "
   ]
  },
  {
   "cell_type": "code",
   "execution_count": 33,
   "id": "2fe33f36-fd47-4455-bb52-0d81071eeeae",
   "metadata": {
    "scrolled": true
   },
   "outputs": [
    {
     "name": "stdout",
     "output_type": "stream",
     "text": [
      "Ultralytics 8.3.78  Python-3.13.1 torch-2.6.0+cpu CPU (AMD Ryzen 5 5600H with Radeon Graphics)\n",
      "\u001b[34m\u001b[1mengine\\trainer: \u001b[0mtask=detect, mode=train, model=yolov10n.pt, data=Outputs/data.yaml, epochs=75, time=None, patience=100, batch=16, imgsz=416, save=True, save_period=-1, cache=False, device=None, workers=8, project=None, name=train, exist_ok=False, pretrained=True, optimizer=auto, verbose=True, seed=0, deterministic=True, single_cls=False, rect=False, cos_lr=False, close_mosaic=10, resume=False, amp=True, fraction=1.0, profile=False, freeze=None, multi_scale=False, overlap_mask=True, mask_ratio=4, dropout=0.0, val=True, split=val, save_json=False, save_hybrid=False, conf=None, iou=0.7, max_det=300, half=False, dnn=False, plots=True, source=None, vid_stride=1, stream_buffer=False, visualize=False, augment=False, agnostic_nms=False, classes=None, retina_masks=False, embed=None, show=False, save_frames=False, save_txt=False, save_conf=False, save_crop=False, show_labels=True, show_conf=True, show_boxes=True, line_width=None, format=torchscript, keras=False, optimize=False, int8=False, dynamic=False, simplify=True, opset=None, workspace=None, nms=False, lr0=0.01, lrf=0.01, momentum=0.937, weight_decay=0.0005, warmup_epochs=3.0, warmup_momentum=0.8, warmup_bias_lr=0.1, box=7.5, cls=0.5, dfl=1.5, pose=12.0, kobj=1.0, nbs=64, hsv_h=0.015, hsv_s=0.7, hsv_v=0.4, degrees=0.0, translate=0.1, scale=0.5, shear=0.0, perspective=0.0, flipud=0.0, fliplr=0.5, bgr=0.0, mosaic=1.0, mixup=0.0, copy_paste=0.0, copy_paste_mode=flip, auto_augment=randaugment, erasing=0.4, crop_fraction=1.0, cfg=None, tracker=botsort.yaml, save_dir=runs\\detect\\train\n",
      "Overriding model.yaml nc=80 with nc=3\n",
      "\n",
      "                   from  n    params  module                                       arguments                     \n",
      "  0                  -1  1       464  ultralytics.nn.modules.conv.Conv             [3, 16, 3, 2]                 \n",
      "  1                  -1  1      4672  ultralytics.nn.modules.conv.Conv             [16, 32, 3, 2]                \n",
      "  2                  -1  1      7360  ultralytics.nn.modules.block.C2f             [32, 32, 1, True]             \n",
      "  3                  -1  1     18560  ultralytics.nn.modules.conv.Conv             [32, 64, 3, 2]                \n",
      "  4                  -1  2     49664  ultralytics.nn.modules.block.C2f             [64, 64, 2, True]             \n",
      "  5                  -1  1      9856  ultralytics.nn.modules.block.SCDown          [64, 128, 3, 2]               \n",
      "  6                  -1  2    197632  ultralytics.nn.modules.block.C2f             [128, 128, 2, True]           \n",
      "  7                  -1  1     36096  ultralytics.nn.modules.block.SCDown          [128, 256, 3, 2]              \n",
      "  8                  -1  1    460288  ultralytics.nn.modules.block.C2f             [256, 256, 1, True]           \n",
      "  9                  -1  1    164608  ultralytics.nn.modules.block.SPPF            [256, 256, 5]                 \n",
      " 10                  -1  1    249728  ultralytics.nn.modules.block.PSA             [256, 256]                    \n",
      " 11                  -1  1         0  torch.nn.modules.upsampling.Upsample         [None, 2, 'nearest']          \n",
      " 12             [-1, 6]  1         0  ultralytics.nn.modules.conv.Concat           [1]                           \n",
      " 13                  -1  1    148224  ultralytics.nn.modules.block.C2f             [384, 128, 1]                 \n",
      " 14                  -1  1         0  torch.nn.modules.upsampling.Upsample         [None, 2, 'nearest']          \n",
      " 15             [-1, 4]  1         0  ultralytics.nn.modules.conv.Concat           [1]                           \n",
      " 16                  -1  1     37248  ultralytics.nn.modules.block.C2f             [192, 64, 1]                  \n",
      " 17                  -1  1     36992  ultralytics.nn.modules.conv.Conv             [64, 64, 3, 2]                \n",
      " 18            [-1, 13]  1         0  ultralytics.nn.modules.conv.Concat           [1]                           \n",
      " 19                  -1  1    123648  ultralytics.nn.modules.block.C2f             [192, 128, 1]                 \n",
      " 20                  -1  1     18048  ultralytics.nn.modules.block.SCDown          [128, 128, 3, 2]              \n",
      " 21            [-1, 10]  1         0  ultralytics.nn.modules.conv.Concat           [1]                           \n",
      " 22                  -1  1    282624  ultralytics.nn.modules.block.C2fCIB          [384, 256, 1, True, True]     \n",
      " 23        [16, 19, 22]  1    862498  ultralytics.nn.modules.head.v10Detect        [3, [64, 128, 256]]           \n",
      "YOLOv10n summary: 223 layers, 2,708,210 parameters, 2,708,194 gradients, 8.4 GFLOPs\n",
      "\n",
      "Transferred 493/595 items from pretrained weights\n",
      "Freezing layer 'model.23.dfl.conv.weight'\n"
     ]
    },
    {
     "name": "stderr",
     "output_type": "stream",
     "text": [
      "\u001b[34m\u001b[1mtrain: \u001b[0mScanning C:\\Users\\Piyush\\Downloads\\Task-SRIP\\Outputs\\labels\\train.cache... 1829 images, 0 backgrounds, 0 corrupt\u001b[0m\n",
      "\u001b[34m\u001b[1mval: \u001b[0mScanning C:\\Users\\Piyush\\Downloads\\Task-SRIP\\Outputs\\labels\\valid.cache... 204 images, 0 backgrounds, 0 corrupt: 1\u001b[0m"
     ]
    },
    {
     "name": "stdout",
     "output_type": "stream",
     "text": [
      "Plotting labels to runs\\detect\\train\\labels.jpg... \n"
     ]
    },
    {
     "name": "stderr",
     "output_type": "stream",
     "text": [
      "\n"
     ]
    },
    {
     "name": "stdout",
     "output_type": "stream",
     "text": [
      "\u001b[34m\u001b[1moptimizer:\u001b[0m 'optimizer=auto' found, ignoring 'lr0=0.01' and 'momentum=0.937' and determining best 'optimizer', 'lr0' and 'momentum' automatically... \n",
      "\u001b[34m\u001b[1moptimizer:\u001b[0m AdamW(lr=0.001429, momentum=0.9) with parameter groups 95 weight(decay=0.0), 108 weight(decay=0.0005), 107 bias(decay=0.0)\n",
      "Image sizes 416 train, 416 val\n",
      "Using 0 dataloader workers\n",
      "Logging results to \u001b[1mruns\\detect\\train\u001b[0m\n",
      "Starting training for 75 epochs...\n",
      "\n",
      "      Epoch    GPU_mem   box_loss   cls_loss   dfl_loss  Instances       Size\n"
     ]
    },
    {
     "name": "stderr",
     "output_type": "stream",
     "text": [
      "       1/75         0G      3.879      5.468      2.453        139        416: 100%|██████████| 115/115 [04:21<00:00,  \n",
      "                 Class     Images  Instances      Box(P          R      mAP50  mAP50-95): 100%|██████████| 7/7 [00:12<0"
     ]
    },
    {
     "name": "stdout",
     "output_type": "stream",
     "text": [
      "                   all        204       2344       0.87     0.0827      0.145     0.0808\n"
     ]
    },
    {
     "name": "stderr",
     "output_type": "stream",
     "text": [
      "\n"
     ]
    },
    {
     "name": "stdout",
     "output_type": "stream",
     "text": [
      "\n",
      "      Epoch    GPU_mem   box_loss   cls_loss   dfl_loss  Instances       Size\n"
     ]
    },
    {
     "name": "stderr",
     "output_type": "stream",
     "text": [
      "       2/75         0G      3.224      2.979      2.221        113        416: 100%|██████████| 115/115 [04:15<00:00,  \n",
      "                 Class     Images  Instances      Box(P          R      mAP50  mAP50-95): 100%|██████████| 7/7 [00:12<0"
     ]
    },
    {
     "name": "stdout",
     "output_type": "stream",
     "text": [
      "                   all        204       2344      0.839      0.179      0.173     0.0982\n"
     ]
    },
    {
     "name": "stderr",
     "output_type": "stream",
     "text": [
      "\n"
     ]
    },
    {
     "name": "stdout",
     "output_type": "stream",
     "text": [
      "\n",
      "      Epoch    GPU_mem   box_loss   cls_loss   dfl_loss  Instances       Size\n"
     ]
    },
    {
     "name": "stderr",
     "output_type": "stream",
     "text": [
      "       3/75         0G      3.191       2.72      2.201         50        416: 100%|██████████| 115/115 [04:15<00:00,  \n",
      "                 Class     Images  Instances      Box(P          R      mAP50  mAP50-95): 100%|██████████| 7/7 [00:12<0"
     ]
    },
    {
     "name": "stdout",
     "output_type": "stream",
     "text": [
      "                   all        204       2344      0.865      0.201      0.206      0.117\n"
     ]
    },
    {
     "name": "stderr",
     "output_type": "stream",
     "text": [
      "\n"
     ]
    },
    {
     "name": "stdout",
     "output_type": "stream",
     "text": [
      "\n",
      "      Epoch    GPU_mem   box_loss   cls_loss   dfl_loss  Instances       Size\n"
     ]
    },
    {
     "name": "stderr",
     "output_type": "stream",
     "text": [
      "       4/75         0G      3.081      2.485        2.2         83        416: 100%|██████████| 115/115 [04:15<00:00,  \n",
      "                 Class     Images  Instances      Box(P          R      mAP50  mAP50-95): 100%|██████████| 7/7 [00:13<0"
     ]
    },
    {
     "name": "stdout",
     "output_type": "stream",
     "text": [
      "                   all        204       2344      0.892      0.211      0.227      0.137\n"
     ]
    },
    {
     "name": "stderr",
     "output_type": "stream",
     "text": [
      "\n"
     ]
    },
    {
     "name": "stdout",
     "output_type": "stream",
     "text": [
      "\n",
      "      Epoch    GPU_mem   box_loss   cls_loss   dfl_loss  Instances       Size\n"
     ]
    },
    {
     "name": "stderr",
     "output_type": "stream",
     "text": [
      "       5/75         0G      3.007      2.334      2.149        119        416: 100%|██████████| 115/115 [04:16<00:00,  \n",
      "                 Class     Images  Instances      Box(P          R      mAP50  mAP50-95): 100%|██████████| 7/7 [00:12<0"
     ]
    },
    {
     "name": "stdout",
     "output_type": "stream",
     "text": [
      "                   all        204       2344      0.839      0.186      0.175      0.112\n"
     ]
    },
    {
     "name": "stderr",
     "output_type": "stream",
     "text": [
      "\n"
     ]
    },
    {
     "name": "stdout",
     "output_type": "stream",
     "text": [
      "\n",
      "      Epoch    GPU_mem   box_loss   cls_loss   dfl_loss  Instances       Size\n"
     ]
    },
    {
     "name": "stderr",
     "output_type": "stream",
     "text": [
      "       6/75         0G      2.948      2.189      2.143         27        416: 100%|██████████| 115/115 [04:15<00:00,  \n",
      "                 Class     Images  Instances      Box(P          R      mAP50  mAP50-95): 100%|██████████| 7/7 [00:12<0"
     ]
    },
    {
     "name": "stdout",
     "output_type": "stream",
     "text": [
      "                   all        204       2344      0.915      0.226      0.254      0.156\n"
     ]
    },
    {
     "name": "stderr",
     "output_type": "stream",
     "text": [
      "\n"
     ]
    },
    {
     "name": "stdout",
     "output_type": "stream",
     "text": [
      "\n",
      "      Epoch    GPU_mem   box_loss   cls_loss   dfl_loss  Instances       Size\n"
     ]
    },
    {
     "name": "stderr",
     "output_type": "stream",
     "text": [
      "       7/75         0G      2.944      2.137      2.128        122        416: 100%|██████████| 115/115 [04:17<00:00,  \n",
      "                 Class     Images  Instances      Box(P          R      mAP50  mAP50-95): 100%|██████████| 7/7 [00:12<0"
     ]
    },
    {
     "name": "stdout",
     "output_type": "stream",
     "text": [
      "                   all        204       2344      0.894      0.243      0.275      0.176\n"
     ]
    },
    {
     "name": "stderr",
     "output_type": "stream",
     "text": [
      "\n"
     ]
    },
    {
     "name": "stdout",
     "output_type": "stream",
     "text": [
      "\n",
      "      Epoch    GPU_mem   box_loss   cls_loss   dfl_loss  Instances       Size\n"
     ]
    },
    {
     "name": "stderr",
     "output_type": "stream",
     "text": [
      "       8/75         0G      2.886      2.046      2.118         85        416: 100%|██████████| 115/115 [04:13<00:00,  \n",
      "                 Class     Images  Instances      Box(P          R      mAP50  mAP50-95): 100%|██████████| 7/7 [00:12<0"
     ]
    },
    {
     "name": "stdout",
     "output_type": "stream",
     "text": [
      "                   all        204       2344      0.924       0.24      0.269      0.171\n"
     ]
    },
    {
     "name": "stderr",
     "output_type": "stream",
     "text": [
      "\n"
     ]
    },
    {
     "name": "stdout",
     "output_type": "stream",
     "text": [
      "\n",
      "      Epoch    GPU_mem   box_loss   cls_loss   dfl_loss  Instances       Size\n"
     ]
    },
    {
     "name": "stderr",
     "output_type": "stream",
     "text": [
      "       9/75         0G      2.796      1.963      2.084        114        416: 100%|██████████| 115/115 [04:14<00:00,  \n",
      "                 Class     Images  Instances      Box(P          R      mAP50  mAP50-95): 100%|██████████| 7/7 [00:12<0"
     ]
    },
    {
     "name": "stdout",
     "output_type": "stream",
     "text": [
      "                   all        204       2344      0.923      0.237      0.286      0.191\n"
     ]
    },
    {
     "name": "stderr",
     "output_type": "stream",
     "text": [
      "\n"
     ]
    },
    {
     "name": "stdout",
     "output_type": "stream",
     "text": [
      "\n",
      "      Epoch    GPU_mem   box_loss   cls_loss   dfl_loss  Instances       Size\n"
     ]
    },
    {
     "name": "stderr",
     "output_type": "stream",
     "text": [
      "      10/75         0G      2.773      1.942      2.071        171        416: 100%|██████████| 115/115 [04:14<00:00,  \n",
      "                 Class     Images  Instances      Box(P          R      mAP50  mAP50-95): 100%|██████████| 7/7 [00:12<0"
     ]
    },
    {
     "name": "stdout",
     "output_type": "stream",
     "text": [
      "                   all        204       2344      0.922      0.258      0.282      0.186\n"
     ]
    },
    {
     "name": "stderr",
     "output_type": "stream",
     "text": [
      "\n"
     ]
    },
    {
     "name": "stdout",
     "output_type": "stream",
     "text": [
      "\n",
      "      Epoch    GPU_mem   box_loss   cls_loss   dfl_loss  Instances       Size\n"
     ]
    },
    {
     "name": "stderr",
     "output_type": "stream",
     "text": [
      "      11/75         0G      2.747      1.862       2.05         60        416: 100%|██████████| 115/115 [04:15<00:00,  \n",
      "                 Class     Images  Instances      Box(P          R      mAP50  mAP50-95): 100%|██████████| 7/7 [00:12<0"
     ]
    },
    {
     "name": "stdout",
     "output_type": "stream",
     "text": [
      "                   all        204       2344       0.92      0.242      0.269      0.174\n"
     ]
    },
    {
     "name": "stderr",
     "output_type": "stream",
     "text": [
      "\n"
     ]
    },
    {
     "name": "stdout",
     "output_type": "stream",
     "text": [
      "\n",
      "      Epoch    GPU_mem   box_loss   cls_loss   dfl_loss  Instances       Size\n"
     ]
    },
    {
     "name": "stderr",
     "output_type": "stream",
     "text": [
      "      12/75         0G      2.724      1.827      2.041         67        416: 100%|██████████| 115/115 [04:16<00:00,  \n",
      "                 Class     Images  Instances      Box(P          R      mAP50  mAP50-95): 100%|██████████| 7/7 [00:12<0"
     ]
    },
    {
     "name": "stdout",
     "output_type": "stream",
     "text": [
      "                   all        204       2344      0.917      0.237      0.265      0.175\n"
     ]
    },
    {
     "name": "stderr",
     "output_type": "stream",
     "text": [
      "\n"
     ]
    },
    {
     "name": "stdout",
     "output_type": "stream",
     "text": [
      "\n",
      "      Epoch    GPU_mem   box_loss   cls_loss   dfl_loss  Instances       Size\n"
     ]
    },
    {
     "name": "stderr",
     "output_type": "stream",
     "text": [
      "      13/75         0G      2.678        1.8      2.023         50        416: 100%|██████████| 115/115 [04:15<00:00,  \n",
      "                 Class     Images  Instances      Box(P          R      mAP50  mAP50-95): 100%|██████████| 7/7 [00:12<0"
     ]
    },
    {
     "name": "stdout",
     "output_type": "stream",
     "text": [
      "                   all        204       2344       0.93      0.246      0.285      0.193\n"
     ]
    },
    {
     "name": "stderr",
     "output_type": "stream",
     "text": [
      "\n"
     ]
    },
    {
     "name": "stdout",
     "output_type": "stream",
     "text": [
      "\n",
      "      Epoch    GPU_mem   box_loss   cls_loss   dfl_loss  Instances       Size\n"
     ]
    },
    {
     "name": "stderr",
     "output_type": "stream",
     "text": [
      "      14/75         0G      2.658      1.765      2.021        122        416: 100%|██████████| 115/115 [04:15<00:00,  \n",
      "                 Class     Images  Instances      Box(P          R      mAP50  mAP50-95): 100%|██████████| 7/7 [00:12<0"
     ]
    },
    {
     "name": "stdout",
     "output_type": "stream",
     "text": [
      "                   all        204       2344      0.933      0.259      0.293      0.203\n"
     ]
    },
    {
     "name": "stderr",
     "output_type": "stream",
     "text": [
      "\n"
     ]
    },
    {
     "name": "stdout",
     "output_type": "stream",
     "text": [
      "\n",
      "      Epoch    GPU_mem   box_loss   cls_loss   dfl_loss  Instances       Size\n"
     ]
    },
    {
     "name": "stderr",
     "output_type": "stream",
     "text": [
      "      15/75         0G      2.647      1.745      2.024        102        416: 100%|██████████| 115/115 [04:15<00:00,  \n",
      "                 Class     Images  Instances      Box(P          R      mAP50  mAP50-95): 100%|██████████| 7/7 [00:12<0"
     ]
    },
    {
     "name": "stdout",
     "output_type": "stream",
     "text": [
      "                   all        204       2344      0.924      0.257        0.3      0.206\n"
     ]
    },
    {
     "name": "stderr",
     "output_type": "stream",
     "text": [
      "\n"
     ]
    },
    {
     "name": "stdout",
     "output_type": "stream",
     "text": [
      "\n",
      "      Epoch    GPU_mem   box_loss   cls_loss   dfl_loss  Instances       Size\n"
     ]
    },
    {
     "name": "stderr",
     "output_type": "stream",
     "text": [
      "      16/75         0G      2.634      1.725      2.004         59        416: 100%|██████████| 115/115 [04:15<00:00,  \n",
      "                 Class     Images  Instances      Box(P          R      mAP50  mAP50-95): 100%|██████████| 7/7 [00:12<0"
     ]
    },
    {
     "name": "stdout",
     "output_type": "stream",
     "text": [
      "                   all        204       2344      0.942      0.255      0.294        0.2\n"
     ]
    },
    {
     "name": "stderr",
     "output_type": "stream",
     "text": [
      "\n"
     ]
    },
    {
     "name": "stdout",
     "output_type": "stream",
     "text": [
      "\n",
      "      Epoch    GPU_mem   box_loss   cls_loss   dfl_loss  Instances       Size\n"
     ]
    },
    {
     "name": "stderr",
     "output_type": "stream",
     "text": [
      "      17/75         0G      2.615      1.699      2.021         55        416: 100%|██████████| 115/115 [04:15<00:00,  \n",
      "                 Class     Images  Instances      Box(P          R      mAP50  mAP50-95): 100%|██████████| 7/7 [00:12<0"
     ]
    },
    {
     "name": "stdout",
     "output_type": "stream",
     "text": [
      "                   all        204       2344      0.941      0.262      0.303      0.203\n"
     ]
    },
    {
     "name": "stderr",
     "output_type": "stream",
     "text": [
      "\n"
     ]
    },
    {
     "name": "stdout",
     "output_type": "stream",
     "text": [
      "\n",
      "      Epoch    GPU_mem   box_loss   cls_loss   dfl_loss  Instances       Size\n"
     ]
    },
    {
     "name": "stderr",
     "output_type": "stream",
     "text": [
      "      18/75         0G      2.548       1.64      1.996         74        416: 100%|██████████| 115/115 [04:13<00:00,  \n",
      "                 Class     Images  Instances      Box(P          R      mAP50  mAP50-95): 100%|██████████| 7/7 [00:12<0"
     ]
    },
    {
     "name": "stdout",
     "output_type": "stream",
     "text": [
      "                   all        204       2344      0.943      0.274      0.309      0.212\n"
     ]
    },
    {
     "name": "stderr",
     "output_type": "stream",
     "text": [
      "\n"
     ]
    },
    {
     "name": "stdout",
     "output_type": "stream",
     "text": [
      "\n",
      "      Epoch    GPU_mem   box_loss   cls_loss   dfl_loss  Instances       Size\n"
     ]
    },
    {
     "name": "stderr",
     "output_type": "stream",
     "text": [
      "      19/75         0G      2.506       1.62      1.978        102        416: 100%|██████████| 115/115 [04:16<00:00,  \n",
      "                 Class     Images  Instances      Box(P          R      mAP50  mAP50-95): 100%|██████████| 7/7 [00:12<0"
     ]
    },
    {
     "name": "stdout",
     "output_type": "stream",
     "text": [
      "                   all        204       2344      0.944      0.268      0.304      0.215\n"
     ]
    },
    {
     "name": "stderr",
     "output_type": "stream",
     "text": [
      "\n"
     ]
    },
    {
     "name": "stdout",
     "output_type": "stream",
     "text": [
      "\n",
      "      Epoch    GPU_mem   box_loss   cls_loss   dfl_loss  Instances       Size\n"
     ]
    },
    {
     "name": "stderr",
     "output_type": "stream",
     "text": [
      "      20/75         0G      2.461      1.558      1.963         93        416: 100%|██████████| 115/115 [04:15<00:00,  \n",
      "                 Class     Images  Instances      Box(P          R      mAP50  mAP50-95): 100%|██████████| 7/7 [00:12<0"
     ]
    },
    {
     "name": "stdout",
     "output_type": "stream",
     "text": [
      "                   all        204       2344       0.94      0.278      0.312       0.22\n"
     ]
    },
    {
     "name": "stderr",
     "output_type": "stream",
     "text": [
      "\n"
     ]
    },
    {
     "name": "stdout",
     "output_type": "stream",
     "text": [
      "\n",
      "      Epoch    GPU_mem   box_loss   cls_loss   dfl_loss  Instances       Size\n"
     ]
    },
    {
     "name": "stderr",
     "output_type": "stream",
     "text": [
      "      21/75         0G      2.494      1.566      1.963         57        416: 100%|██████████| 115/115 [04:14<00:00,  \n",
      "                 Class     Images  Instances      Box(P          R      mAP50  mAP50-95): 100%|██████████| 7/7 [00:12<0"
     ]
    },
    {
     "name": "stdout",
     "output_type": "stream",
     "text": [
      "                   all        204       2344      0.944      0.271      0.314      0.216\n"
     ]
    },
    {
     "name": "stderr",
     "output_type": "stream",
     "text": [
      "\n"
     ]
    },
    {
     "name": "stdout",
     "output_type": "stream",
     "text": [
      "\n",
      "      Epoch    GPU_mem   box_loss   cls_loss   dfl_loss  Instances       Size\n"
     ]
    },
    {
     "name": "stderr",
     "output_type": "stream",
     "text": [
      "      22/75         0G       2.46      1.539      1.959         89        416: 100%|██████████| 115/115 [04:14<00:00,  \n",
      "                 Class     Images  Instances      Box(P          R      mAP50  mAP50-95): 100%|██████████| 7/7 [00:12<0"
     ]
    },
    {
     "name": "stdout",
     "output_type": "stream",
     "text": [
      "                   all        204       2344      0.945      0.271      0.326      0.229\n"
     ]
    },
    {
     "name": "stderr",
     "output_type": "stream",
     "text": [
      "\n"
     ]
    },
    {
     "name": "stdout",
     "output_type": "stream",
     "text": [
      "\n",
      "      Epoch    GPU_mem   box_loss   cls_loss   dfl_loss  Instances       Size\n"
     ]
    },
    {
     "name": "stderr",
     "output_type": "stream",
     "text": [
      "      23/75         0G      2.437      1.524       1.95         95        416: 100%|██████████| 115/115 [04:14<00:00,  \n",
      "                 Class     Images  Instances      Box(P          R      mAP50  mAP50-95): 100%|██████████| 7/7 [00:12<0"
     ]
    },
    {
     "name": "stdout",
     "output_type": "stream",
     "text": [
      "                   all        204       2344      0.942       0.27      0.303      0.215\n"
     ]
    },
    {
     "name": "stderr",
     "output_type": "stream",
     "text": [
      "\n"
     ]
    },
    {
     "name": "stdout",
     "output_type": "stream",
     "text": [
      "\n",
      "      Epoch    GPU_mem   box_loss   cls_loss   dfl_loss  Instances       Size\n"
     ]
    },
    {
     "name": "stderr",
     "output_type": "stream",
     "text": [
      "      24/75         0G      2.448       1.52      1.952         65        416: 100%|██████████| 115/115 [04:13<00:00,  \n",
      "                 Class     Images  Instances      Box(P          R      mAP50  mAP50-95): 100%|██████████| 7/7 [00:12<0"
     ]
    },
    {
     "name": "stdout",
     "output_type": "stream",
     "text": [
      "                   all        204       2344      0.949      0.276      0.322      0.224\n"
     ]
    },
    {
     "name": "stderr",
     "output_type": "stream",
     "text": [
      "\n"
     ]
    },
    {
     "name": "stdout",
     "output_type": "stream",
     "text": [
      "\n",
      "      Epoch    GPU_mem   box_loss   cls_loss   dfl_loss  Instances       Size\n"
     ]
    },
    {
     "name": "stderr",
     "output_type": "stream",
     "text": [
      "      25/75         0G      2.437      1.507      1.946         80        416: 100%|██████████| 115/115 [04:15<00:00,  \n",
      "                 Class     Images  Instances      Box(P          R      mAP50  mAP50-95): 100%|██████████| 7/7 [00:12<0"
     ]
    },
    {
     "name": "stdout",
     "output_type": "stream",
     "text": [
      "                   all        204       2344      0.954      0.271      0.331      0.236\n"
     ]
    },
    {
     "name": "stderr",
     "output_type": "stream",
     "text": [
      "\n"
     ]
    },
    {
     "name": "stdout",
     "output_type": "stream",
     "text": [
      "\n",
      "      Epoch    GPU_mem   box_loss   cls_loss   dfl_loss  Instances       Size\n"
     ]
    },
    {
     "name": "stderr",
     "output_type": "stream",
     "text": [
      "      26/75         0G      2.426      1.494      1.949         63        416: 100%|██████████| 115/115 [04:15<00:00,  \n",
      "                 Class     Images  Instances      Box(P          R      mAP50  mAP50-95): 100%|██████████| 7/7 [00:12<0"
     ]
    },
    {
     "name": "stdout",
     "output_type": "stream",
     "text": [
      "                   all        204       2344      0.952      0.281      0.335      0.235\n"
     ]
    },
    {
     "name": "stderr",
     "output_type": "stream",
     "text": [
      "\n"
     ]
    },
    {
     "name": "stdout",
     "output_type": "stream",
     "text": [
      "\n",
      "      Epoch    GPU_mem   box_loss   cls_loss   dfl_loss  Instances       Size\n"
     ]
    },
    {
     "name": "stderr",
     "output_type": "stream",
     "text": [
      "      27/75         0G      2.358       1.45      1.933         43        416: 100%|██████████| 115/115 [04:15<00:00,  \n",
      "                 Class     Images  Instances      Box(P          R      mAP50  mAP50-95): 100%|██████████| 7/7 [00:12<0"
     ]
    },
    {
     "name": "stdout",
     "output_type": "stream",
     "text": [
      "                   all        204       2344      0.942      0.277      0.305      0.218\n"
     ]
    },
    {
     "name": "stderr",
     "output_type": "stream",
     "text": [
      "\n"
     ]
    },
    {
     "name": "stdout",
     "output_type": "stream",
     "text": [
      "\n",
      "      Epoch    GPU_mem   box_loss   cls_loss   dfl_loss  Instances       Size\n"
     ]
    },
    {
     "name": "stderr",
     "output_type": "stream",
     "text": [
      "      28/75         0G      2.332       1.42      1.924         40        416: 100%|██████████| 115/115 [04:14<00:00,  \n",
      "                 Class     Images  Instances      Box(P          R      mAP50  mAP50-95): 100%|██████████| 7/7 [00:12<0"
     ]
    },
    {
     "name": "stdout",
     "output_type": "stream",
     "text": [
      "                   all        204       2344      0.953      0.283      0.359      0.256\n"
     ]
    },
    {
     "name": "stderr",
     "output_type": "stream",
     "text": [
      "\n"
     ]
    },
    {
     "name": "stdout",
     "output_type": "stream",
     "text": [
      "\n",
      "      Epoch    GPU_mem   box_loss   cls_loss   dfl_loss  Instances       Size\n"
     ]
    },
    {
     "name": "stderr",
     "output_type": "stream",
     "text": [
      "      29/75         0G      2.371      1.447       1.93         33        416: 100%|██████████| 115/115 [04:15<00:00,  \n",
      "                 Class     Images  Instances      Box(P          R      mAP50  mAP50-95): 100%|██████████| 7/7 [00:12<0"
     ]
    },
    {
     "name": "stdout",
     "output_type": "stream",
     "text": [
      "                   all        204       2344      0.956      0.278      0.353      0.247\n"
     ]
    },
    {
     "name": "stderr",
     "output_type": "stream",
     "text": [
      "\n"
     ]
    },
    {
     "name": "stdout",
     "output_type": "stream",
     "text": [
      "\n",
      "      Epoch    GPU_mem   box_loss   cls_loss   dfl_loss  Instances       Size\n"
     ]
    },
    {
     "name": "stderr",
     "output_type": "stream",
     "text": [
      "      30/75         0G      2.332      1.408      1.921        108        416: 100%|██████████| 115/115 [04:15<00:00,  \n",
      "                 Class     Images  Instances      Box(P          R      mAP50  mAP50-95): 100%|██████████| 7/7 [00:12<0"
     ]
    },
    {
     "name": "stdout",
     "output_type": "stream",
     "text": [
      "                   all        204       2344       0.61      0.272      0.321      0.227\n"
     ]
    },
    {
     "name": "stderr",
     "output_type": "stream",
     "text": [
      "\n"
     ]
    },
    {
     "name": "stdout",
     "output_type": "stream",
     "text": [
      "\n",
      "      Epoch    GPU_mem   box_loss   cls_loss   dfl_loss  Instances       Size\n"
     ]
    },
    {
     "name": "stderr",
     "output_type": "stream",
     "text": [
      "      31/75         0G       2.32      1.405      1.926         73        416: 100%|██████████| 115/115 [04:15<00:00,  \n",
      "                 Class     Images  Instances      Box(P          R      mAP50  mAP50-95): 100%|██████████| 7/7 [00:12<0"
     ]
    },
    {
     "name": "stdout",
     "output_type": "stream",
     "text": [
      "                   all        204       2344      0.952      0.278      0.395      0.254\n"
     ]
    },
    {
     "name": "stderr",
     "output_type": "stream",
     "text": [
      "\n"
     ]
    },
    {
     "name": "stdout",
     "output_type": "stream",
     "text": [
      "\n",
      "      Epoch    GPU_mem   box_loss   cls_loss   dfl_loss  Instances       Size\n"
     ]
    },
    {
     "name": "stderr",
     "output_type": "stream",
     "text": [
      "      32/75         0G      2.323      1.394      1.919         26        416: 100%|██████████| 115/115 [04:15<00:00,  \n",
      "                 Class     Images  Instances      Box(P          R      mAP50  mAP50-95): 100%|██████████| 7/7 [00:12<0"
     ]
    },
    {
     "name": "stdout",
     "output_type": "stream",
     "text": [
      "                   all        204       2344      0.292      0.345       0.36       0.25\n"
     ]
    },
    {
     "name": "stderr",
     "output_type": "stream",
     "text": [
      "\n"
     ]
    },
    {
     "name": "stdout",
     "output_type": "stream",
     "text": [
      "\n",
      "      Epoch    GPU_mem   box_loss   cls_loss   dfl_loss  Instances       Size\n"
     ]
    },
    {
     "name": "stderr",
     "output_type": "stream",
     "text": [
      "      33/75         0G      2.318      1.384      1.922         96        416: 100%|██████████| 115/115 [04:15<00:00,  \n",
      "                 Class     Images  Instances      Box(P          R      mAP50  mAP50-95): 100%|██████████| 7/7 [00:12<0"
     ]
    },
    {
     "name": "stdout",
     "output_type": "stream",
     "text": [
      "                   all        204       2344      0.521       0.38      0.417      0.294\n"
     ]
    },
    {
     "name": "stderr",
     "output_type": "stream",
     "text": [
      "\n"
     ]
    },
    {
     "name": "stdout",
     "output_type": "stream",
     "text": [
      "\n",
      "      Epoch    GPU_mem   box_loss   cls_loss   dfl_loss  Instances       Size\n"
     ]
    },
    {
     "name": "stderr",
     "output_type": "stream",
     "text": [
      "      34/75         0G      2.277      1.355      1.906        149        416: 100%|██████████| 115/115 [04:14<00:00,  \n",
      "                 Class     Images  Instances      Box(P          R      mAP50  mAP50-95): 100%|██████████| 7/7 [00:12<0"
     ]
    },
    {
     "name": "stdout",
     "output_type": "stream",
     "text": [
      "                   all        204       2344      0.621      0.285      0.371      0.255\n"
     ]
    },
    {
     "name": "stderr",
     "output_type": "stream",
     "text": [
      "\n"
     ]
    },
    {
     "name": "stdout",
     "output_type": "stream",
     "text": [
      "\n",
      "      Epoch    GPU_mem   box_loss   cls_loss   dfl_loss  Instances       Size\n"
     ]
    },
    {
     "name": "stderr",
     "output_type": "stream",
     "text": [
      "      35/75         0G      2.279      1.356      1.903         85        416: 100%|██████████| 115/115 [04:14<00:00,  \n",
      "                 Class     Images  Instances      Box(P          R      mAP50  mAP50-95): 100%|██████████| 7/7 [00:12<0"
     ]
    },
    {
     "name": "stdout",
     "output_type": "stream",
     "text": [
      "                   all        204       2344      0.631      0.337      0.372      0.272\n"
     ]
    },
    {
     "name": "stderr",
     "output_type": "stream",
     "text": [
      "\n"
     ]
    },
    {
     "name": "stdout",
     "output_type": "stream",
     "text": [
      "\n",
      "      Epoch    GPU_mem   box_loss   cls_loss   dfl_loss  Instances       Size\n"
     ]
    },
    {
     "name": "stderr",
     "output_type": "stream",
     "text": [
      "      36/75         0G      2.279      1.354      1.915        116        416: 100%|██████████| 115/115 [04:13<00:00,  \n",
      "                 Class     Images  Instances      Box(P          R      mAP50  mAP50-95): 100%|██████████| 7/7 [00:12<0"
     ]
    },
    {
     "name": "stdout",
     "output_type": "stream",
     "text": [
      "                   all        204       2344      0.405      0.386      0.428      0.276\n"
     ]
    },
    {
     "name": "stderr",
     "output_type": "stream",
     "text": [
      "\n"
     ]
    },
    {
     "name": "stdout",
     "output_type": "stream",
     "text": [
      "\n",
      "      Epoch    GPU_mem   box_loss   cls_loss   dfl_loss  Instances       Size\n"
     ]
    },
    {
     "name": "stderr",
     "output_type": "stream",
     "text": [
      "      37/75         0G      2.297      1.347        1.9         34        416: 100%|██████████| 115/115 [04:15<00:00,  \n",
      "                 Class     Images  Instances      Box(P          R      mAP50  mAP50-95): 100%|██████████| 7/7 [00:12<0"
     ]
    },
    {
     "name": "stdout",
     "output_type": "stream",
     "text": [
      "                   all        204       2344      0.221      0.368       0.37      0.253\n"
     ]
    },
    {
     "name": "stderr",
     "output_type": "stream",
     "text": [
      "\n"
     ]
    },
    {
     "name": "stdout",
     "output_type": "stream",
     "text": [
      "\n",
      "      Epoch    GPU_mem   box_loss   cls_loss   dfl_loss  Instances       Size\n"
     ]
    },
    {
     "name": "stderr",
     "output_type": "stream",
     "text": [
      "      38/75         0G       2.24      1.318      1.894         48        416: 100%|██████████| 115/115 [04:15<00:00,  \n",
      "                 Class     Images  Instances      Box(P          R      mAP50  mAP50-95): 100%|██████████| 7/7 [00:13<0"
     ]
    },
    {
     "name": "stdout",
     "output_type": "stream",
     "text": [
      "                   all        204       2344      0.483      0.435      0.443      0.329\n"
     ]
    },
    {
     "name": "stderr",
     "output_type": "stream",
     "text": [
      "\n"
     ]
    },
    {
     "name": "stdout",
     "output_type": "stream",
     "text": [
      "\n",
      "      Epoch    GPU_mem   box_loss   cls_loss   dfl_loss  Instances       Size\n"
     ]
    },
    {
     "name": "stderr",
     "output_type": "stream",
     "text": [
      "      39/75         0G      2.238      1.314      1.885         88        416: 100%|██████████| 115/115 [04:16<00:00,  \n",
      "                 Class     Images  Instances      Box(P          R      mAP50  mAP50-95): 100%|██████████| 7/7 [00:12<0"
     ]
    },
    {
     "name": "stdout",
     "output_type": "stream",
     "text": [
      "                   all        204       2344      0.617      0.435      0.439      0.324\n"
     ]
    },
    {
     "name": "stderr",
     "output_type": "stream",
     "text": [
      "\n"
     ]
    },
    {
     "name": "stdout",
     "output_type": "stream",
     "text": [
      "\n",
      "      Epoch    GPU_mem   box_loss   cls_loss   dfl_loss  Instances       Size\n"
     ]
    },
    {
     "name": "stderr",
     "output_type": "stream",
     "text": [
      "      40/75         0G      2.203      1.278      1.882         82        416: 100%|██████████| 115/115 [04:14<00:00,  \n",
      "                 Class     Images  Instances      Box(P          R      mAP50  mAP50-95): 100%|██████████| 7/7 [00:12<0"
     ]
    },
    {
     "name": "stdout",
     "output_type": "stream",
     "text": [
      "                   all        204       2344      0.687      0.411      0.445      0.331\n"
     ]
    },
    {
     "name": "stderr",
     "output_type": "stream",
     "text": [
      "\n"
     ]
    },
    {
     "name": "stdout",
     "output_type": "stream",
     "text": [
      "\n",
      "      Epoch    GPU_mem   box_loss   cls_loss   dfl_loss  Instances       Size\n"
     ]
    },
    {
     "name": "stderr",
     "output_type": "stream",
     "text": [
      "      41/75         0G      2.209      1.287       1.88         80        416: 100%|██████████| 115/115 [04:14<00:00,  \n",
      "                 Class     Images  Instances      Box(P          R      mAP50  mAP50-95): 100%|██████████| 7/7 [00:12<0"
     ]
    },
    {
     "name": "stdout",
     "output_type": "stream",
     "text": [
      "                   all        204       2344      0.877      0.451      0.489      0.363\n"
     ]
    },
    {
     "name": "stderr",
     "output_type": "stream",
     "text": [
      "\n"
     ]
    },
    {
     "name": "stdout",
     "output_type": "stream",
     "text": [
      "\n",
      "      Epoch    GPU_mem   box_loss   cls_loss   dfl_loss  Instances       Size\n"
     ]
    },
    {
     "name": "stderr",
     "output_type": "stream",
     "text": [
      "      42/75         0G      2.178      1.279      1.885         26        416: 100%|██████████| 115/115 [04:17<00:00,  \n",
      "                 Class     Images  Instances      Box(P          R      mAP50  mAP50-95): 100%|██████████| 7/7 [00:12<0"
     ]
    },
    {
     "name": "stdout",
     "output_type": "stream",
     "text": [
      "                   all        204       2344      0.638      0.475      0.497      0.363\n"
     ]
    },
    {
     "name": "stderr",
     "output_type": "stream",
     "text": [
      "\n"
     ]
    },
    {
     "name": "stdout",
     "output_type": "stream",
     "text": [
      "\n",
      "      Epoch    GPU_mem   box_loss   cls_loss   dfl_loss  Instances       Size\n"
     ]
    },
    {
     "name": "stderr",
     "output_type": "stream",
     "text": [
      "      43/75         0G      2.158      1.267      1.867         52        416: 100%|██████████| 115/115 [04:13<00:00,  \n",
      "                 Class     Images  Instances      Box(P          R      mAP50  mAP50-95): 100%|██████████| 7/7 [00:12<0"
     ]
    },
    {
     "name": "stdout",
     "output_type": "stream",
     "text": [
      "                   all        204       2344      0.455      0.482      0.495      0.356\n"
     ]
    },
    {
     "name": "stderr",
     "output_type": "stream",
     "text": [
      "\n"
     ]
    },
    {
     "name": "stdout",
     "output_type": "stream",
     "text": [
      "\n",
      "      Epoch    GPU_mem   box_loss   cls_loss   dfl_loss  Instances       Size\n"
     ]
    },
    {
     "name": "stderr",
     "output_type": "stream",
     "text": [
      "      44/75         0G      2.177      1.271      1.882        113        416: 100%|██████████| 115/115 [04:13<00:00,  \n",
      "                 Class     Images  Instances      Box(P          R      mAP50  mAP50-95): 100%|██████████| 7/7 [00:12<0"
     ]
    },
    {
     "name": "stdout",
     "output_type": "stream",
     "text": [
      "                   all        204       2344      0.789      0.434      0.487      0.339\n"
     ]
    },
    {
     "name": "stderr",
     "output_type": "stream",
     "text": [
      "\n"
     ]
    },
    {
     "name": "stdout",
     "output_type": "stream",
     "text": [
      "\n",
      "      Epoch    GPU_mem   box_loss   cls_loss   dfl_loss  Instances       Size\n"
     ]
    },
    {
     "name": "stderr",
     "output_type": "stream",
     "text": [
      "      45/75         0G      2.154      1.246      1.868        163        416: 100%|██████████| 115/115 [04:15<00:00,  \n",
      "                 Class     Images  Instances      Box(P          R      mAP50  mAP50-95): 100%|██████████| 7/7 [00:12<0"
     ]
    },
    {
     "name": "stdout",
     "output_type": "stream",
     "text": [
      "                   all        204       2344      0.833      0.527      0.583      0.438\n"
     ]
    },
    {
     "name": "stderr",
     "output_type": "stream",
     "text": [
      "\n"
     ]
    },
    {
     "name": "stdout",
     "output_type": "stream",
     "text": [
      "\n",
      "      Epoch    GPU_mem   box_loss   cls_loss   dfl_loss  Instances       Size\n"
     ]
    },
    {
     "name": "stderr",
     "output_type": "stream",
     "text": [
      "      46/75         0G      2.116      1.228      1.863         71        416: 100%|██████████| 115/115 [04:14<00:00,  \n",
      "                 Class     Images  Instances      Box(P          R      mAP50  mAP50-95): 100%|██████████| 7/7 [00:12<0"
     ]
    },
    {
     "name": "stdout",
     "output_type": "stream",
     "text": [
      "                   all        204       2344      0.633      0.443      0.501      0.386\n"
     ]
    },
    {
     "name": "stderr",
     "output_type": "stream",
     "text": [
      "\n"
     ]
    },
    {
     "name": "stdout",
     "output_type": "stream",
     "text": [
      "\n",
      "      Epoch    GPU_mem   box_loss   cls_loss   dfl_loss  Instances       Size\n"
     ]
    },
    {
     "name": "stderr",
     "output_type": "stream",
     "text": [
      "      47/75         0G      2.124      1.223      1.859         42        416: 100%|██████████| 115/115 [04:16<00:00,  \n",
      "                 Class     Images  Instances      Box(P          R      mAP50  mAP50-95): 100%|██████████| 7/7 [00:12<0"
     ]
    },
    {
     "name": "stdout",
     "output_type": "stream",
     "text": [
      "                   all        204       2344      0.695      0.488       0.53      0.402\n"
     ]
    },
    {
     "name": "stderr",
     "output_type": "stream",
     "text": [
      "\n"
     ]
    },
    {
     "name": "stdout",
     "output_type": "stream",
     "text": [
      "\n",
      "      Epoch    GPU_mem   box_loss   cls_loss   dfl_loss  Instances       Size\n"
     ]
    },
    {
     "name": "stderr",
     "output_type": "stream",
     "text": [
      "      48/75         0G       2.09      1.211      1.859         36        416: 100%|██████████| 115/115 [04:14<00:00,  \n",
      "                 Class     Images  Instances      Box(P          R      mAP50  mAP50-95): 100%|██████████| 7/7 [00:12<0"
     ]
    },
    {
     "name": "stdout",
     "output_type": "stream",
     "text": [
      "                   all        204       2344      0.902      0.468      0.551      0.403\n"
     ]
    },
    {
     "name": "stderr",
     "output_type": "stream",
     "text": [
      "\n"
     ]
    },
    {
     "name": "stdout",
     "output_type": "stream",
     "text": [
      "\n",
      "      Epoch    GPU_mem   box_loss   cls_loss   dfl_loss  Instances       Size\n"
     ]
    },
    {
     "name": "stderr",
     "output_type": "stream",
     "text": [
      "      49/75         0G      2.091      1.207      1.851         35        416: 100%|██████████| 115/115 [04:16<00:00,  \n",
      "                 Class     Images  Instances      Box(P          R      mAP50  mAP50-95): 100%|██████████| 7/7 [00:12<0"
     ]
    },
    {
     "name": "stdout",
     "output_type": "stream",
     "text": [
      "                   all        204       2344       0.82      0.427      0.543      0.399\n"
     ]
    },
    {
     "name": "stderr",
     "output_type": "stream",
     "text": [
      "\n"
     ]
    },
    {
     "name": "stdout",
     "output_type": "stream",
     "text": [
      "\n",
      "      Epoch    GPU_mem   box_loss   cls_loss   dfl_loss  Instances       Size\n"
     ]
    },
    {
     "name": "stderr",
     "output_type": "stream",
     "text": [
      "      50/75         0G      2.087      1.196      1.841        125        416: 100%|██████████| 115/115 [04:14<00:00,  \n",
      "                 Class     Images  Instances      Box(P          R      mAP50  mAP50-95): 100%|██████████| 7/7 [00:12<0"
     ]
    },
    {
     "name": "stdout",
     "output_type": "stream",
     "text": [
      "                   all        204       2344      0.625      0.554      0.611      0.441\n"
     ]
    },
    {
     "name": "stderr",
     "output_type": "stream",
     "text": [
      "\n"
     ]
    },
    {
     "name": "stdout",
     "output_type": "stream",
     "text": [
      "\n",
      "      Epoch    GPU_mem   box_loss   cls_loss   dfl_loss  Instances       Size\n"
     ]
    },
    {
     "name": "stderr",
     "output_type": "stream",
     "text": [
      "      51/75         0G      2.074      1.198      1.848        115        416: 100%|██████████| 115/115 [04:14<00:00,  \n",
      "                 Class     Images  Instances      Box(P          R      mAP50  mAP50-95): 100%|██████████| 7/7 [00:12<0"
     ]
    },
    {
     "name": "stdout",
     "output_type": "stream",
     "text": [
      "                   all        204       2344      0.953      0.498      0.615      0.471\n"
     ]
    },
    {
     "name": "stderr",
     "output_type": "stream",
     "text": [
      "\n"
     ]
    },
    {
     "name": "stdout",
     "output_type": "stream",
     "text": [
      "\n",
      "      Epoch    GPU_mem   box_loss   cls_loss   dfl_loss  Instances       Size\n"
     ]
    },
    {
     "name": "stderr",
     "output_type": "stream",
     "text": [
      "      52/75         0G      2.057      1.183      1.841         88        416: 100%|██████████| 115/115 [04:14<00:00,  \n",
      "                 Class     Images  Instances      Box(P          R      mAP50  mAP50-95): 100%|██████████| 7/7 [00:12<0"
     ]
    },
    {
     "name": "stdout",
     "output_type": "stream",
     "text": [
      "                   all        204       2344      0.756      0.478      0.614      0.452\n"
     ]
    },
    {
     "name": "stderr",
     "output_type": "stream",
     "text": [
      "\n"
     ]
    },
    {
     "name": "stdout",
     "output_type": "stream",
     "text": [
      "\n",
      "      Epoch    GPU_mem   box_loss   cls_loss   dfl_loss  Instances       Size\n"
     ]
    },
    {
     "name": "stderr",
     "output_type": "stream",
     "text": [
      "      53/75         0G      2.037      1.175      1.832         65        416: 100%|██████████| 115/115 [04:14<00:00,  \n",
      "                 Class     Images  Instances      Box(P          R      mAP50  mAP50-95): 100%|██████████| 7/7 [00:12<0"
     ]
    },
    {
     "name": "stdout",
     "output_type": "stream",
     "text": [
      "                   all        204       2344      0.564      0.579       0.57      0.416\n"
     ]
    },
    {
     "name": "stderr",
     "output_type": "stream",
     "text": [
      "\n"
     ]
    },
    {
     "name": "stdout",
     "output_type": "stream",
     "text": [
      "\n",
      "      Epoch    GPU_mem   box_loss   cls_loss   dfl_loss  Instances       Size\n"
     ]
    },
    {
     "name": "stderr",
     "output_type": "stream",
     "text": [
      "      54/75         0G      2.043       1.17      1.835        115        416: 100%|██████████| 115/115 [04:15<00:00,  \n",
      "                 Class     Images  Instances      Box(P          R      mAP50  mAP50-95): 100%|██████████| 7/7 [00:12<0"
     ]
    },
    {
     "name": "stdout",
     "output_type": "stream",
     "text": [
      "                   all        204       2344      0.656      0.588      0.623      0.465\n"
     ]
    },
    {
     "name": "stderr",
     "output_type": "stream",
     "text": [
      "\n"
     ]
    },
    {
     "name": "stdout",
     "output_type": "stream",
     "text": [
      "\n",
      "      Epoch    GPU_mem   box_loss   cls_loss   dfl_loss  Instances       Size\n"
     ]
    },
    {
     "name": "stderr",
     "output_type": "stream",
     "text": [
      "      55/75         0G      2.021      1.155       1.83         42        416: 100%|██████████| 115/115 [04:14<00:00,  \n",
      "                 Class     Images  Instances      Box(P          R      mAP50  mAP50-95): 100%|██████████| 7/7 [00:12<0"
     ]
    },
    {
     "name": "stdout",
     "output_type": "stream",
     "text": [
      "                   all        204       2344      0.718      0.501      0.581       0.44\n"
     ]
    },
    {
     "name": "stderr",
     "output_type": "stream",
     "text": [
      "\n"
     ]
    },
    {
     "name": "stdout",
     "output_type": "stream",
     "text": [
      "\n",
      "      Epoch    GPU_mem   box_loss   cls_loss   dfl_loss  Instances       Size\n"
     ]
    },
    {
     "name": "stderr",
     "output_type": "stream",
     "text": [
      "      56/75         0G      2.012      1.154      1.836         33        416: 100%|██████████| 115/115 [04:14<00:00,  \n",
      "                 Class     Images  Instances      Box(P          R      mAP50  mAP50-95): 100%|██████████| 7/7 [00:12<0"
     ]
    },
    {
     "name": "stdout",
     "output_type": "stream",
     "text": [
      "                   all        204       2344      0.634      0.567      0.583      0.436\n"
     ]
    },
    {
     "name": "stderr",
     "output_type": "stream",
     "text": [
      "\n"
     ]
    },
    {
     "name": "stdout",
     "output_type": "stream",
     "text": [
      "\n",
      "      Epoch    GPU_mem   box_loss   cls_loss   dfl_loss  Instances       Size\n"
     ]
    },
    {
     "name": "stderr",
     "output_type": "stream",
     "text": [
      "      57/75         0G      1.992       1.14      1.832         54        416: 100%|██████████| 115/115 [04:15<00:00,  \n",
      "                 Class     Images  Instances      Box(P          R      mAP50  mAP50-95): 100%|██████████| 7/7 [00:12<0"
     ]
    },
    {
     "name": "stdout",
     "output_type": "stream",
     "text": [
      "                   all        204       2344      0.595      0.569      0.609      0.468\n"
     ]
    },
    {
     "name": "stderr",
     "output_type": "stream",
     "text": [
      "\n"
     ]
    },
    {
     "name": "stdout",
     "output_type": "stream",
     "text": [
      "\n",
      "      Epoch    GPU_mem   box_loss   cls_loss   dfl_loss  Instances       Size\n"
     ]
    },
    {
     "name": "stderr",
     "output_type": "stream",
     "text": [
      "      58/75         0G      1.988      1.127      1.834         61        416: 100%|██████████| 115/115 [04:12<00:00,  \n",
      "                 Class     Images  Instances      Box(P          R      mAP50  mAP50-95): 100%|██████████| 7/7 [00:12<0"
     ]
    },
    {
     "name": "stdout",
     "output_type": "stream",
     "text": [
      "                   all        204       2344      0.623      0.565      0.618      0.455\n"
     ]
    },
    {
     "name": "stderr",
     "output_type": "stream",
     "text": [
      "\n"
     ]
    },
    {
     "name": "stdout",
     "output_type": "stream",
     "text": [
      "\n",
      "      Epoch    GPU_mem   box_loss   cls_loss   dfl_loss  Instances       Size\n"
     ]
    },
    {
     "name": "stderr",
     "output_type": "stream",
     "text": [
      "      59/75         0G       1.96      1.123      1.819         39        416: 100%|██████████| 115/115 [04:14<00:00,  \n",
      "                 Class     Images  Instances      Box(P          R      mAP50  mAP50-95): 100%|██████████| 7/7 [00:12<0"
     ]
    },
    {
     "name": "stdout",
     "output_type": "stream",
     "text": [
      "                   all        204       2344      0.836      0.557      0.677       0.51\n"
     ]
    },
    {
     "name": "stderr",
     "output_type": "stream",
     "text": [
      "\n"
     ]
    },
    {
     "name": "stdout",
     "output_type": "stream",
     "text": [
      "\n",
      "      Epoch    GPU_mem   box_loss   cls_loss   dfl_loss  Instances       Size\n"
     ]
    },
    {
     "name": "stderr",
     "output_type": "stream",
     "text": [
      "      60/75         0G      1.933      1.103      1.811         49        416: 100%|██████████| 115/115 [04:13<00:00,  \n",
      "                 Class     Images  Instances      Box(P          R      mAP50  mAP50-95): 100%|██████████| 7/7 [00:12<0"
     ]
    },
    {
     "name": "stdout",
     "output_type": "stream",
     "text": [
      "                   all        204       2344      0.681      0.569      0.639      0.485\n"
     ]
    },
    {
     "name": "stderr",
     "output_type": "stream",
     "text": [
      "\n"
     ]
    },
    {
     "name": "stdout",
     "output_type": "stream",
     "text": [
      "\n",
      "      Epoch    GPU_mem   box_loss   cls_loss   dfl_loss  Instances       Size\n"
     ]
    },
    {
     "name": "stderr",
     "output_type": "stream",
     "text": [
      "      61/75         0G      1.972      1.128      1.823         48        416: 100%|██████████| 115/115 [04:13<00:00,  \n",
      "                 Class     Images  Instances      Box(P          R      mAP50  mAP50-95): 100%|██████████| 7/7 [00:12<0"
     ]
    },
    {
     "name": "stdout",
     "output_type": "stream",
     "text": [
      "                   all        204       2344      0.926      0.483      0.639      0.484\n"
     ]
    },
    {
     "name": "stderr",
     "output_type": "stream",
     "text": [
      "\n"
     ]
    },
    {
     "name": "stdout",
     "output_type": "stream",
     "text": [
      "\n",
      "      Epoch    GPU_mem   box_loss   cls_loss   dfl_loss  Instances       Size\n"
     ]
    },
    {
     "name": "stderr",
     "output_type": "stream",
     "text": [
      "      62/75         0G      1.919      1.088      1.807         89        416: 100%|██████████| 115/115 [04:14<00:00,  \n",
      "                 Class     Images  Instances      Box(P          R      mAP50  mAP50-95): 100%|██████████| 7/7 [00:12<0"
     ]
    },
    {
     "name": "stdout",
     "output_type": "stream",
     "text": [
      "                   all        204       2344      0.733       0.56      0.633      0.482\n"
     ]
    },
    {
     "name": "stderr",
     "output_type": "stream",
     "text": [
      "\n"
     ]
    },
    {
     "name": "stdout",
     "output_type": "stream",
     "text": [
      "\n",
      "      Epoch    GPU_mem   box_loss   cls_loss   dfl_loss  Instances       Size\n"
     ]
    },
    {
     "name": "stderr",
     "output_type": "stream",
     "text": [
      "      63/75         0G      1.912      1.082      1.805         59        416: 100%|██████████| 115/115 [04:12<00:00,  \n",
      "                 Class     Images  Instances      Box(P          R      mAP50  mAP50-95): 100%|██████████| 7/7 [00:12<0"
     ]
    },
    {
     "name": "stdout",
     "output_type": "stream",
     "text": [
      "                   all        204       2344      0.573      0.644      0.606      0.454\n"
     ]
    },
    {
     "name": "stderr",
     "output_type": "stream",
     "text": [
      "\n"
     ]
    },
    {
     "name": "stdout",
     "output_type": "stream",
     "text": [
      "\n",
      "      Epoch    GPU_mem   box_loss   cls_loss   dfl_loss  Instances       Size\n"
     ]
    },
    {
     "name": "stderr",
     "output_type": "stream",
     "text": [
      "      64/75         0G       1.91      1.091      1.805        116        416: 100%|██████████| 115/115 [04:12<00:00,  \n",
      "                 Class     Images  Instances      Box(P          R      mAP50  mAP50-95): 100%|██████████| 7/7 [00:12<0"
     ]
    },
    {
     "name": "stdout",
     "output_type": "stream",
     "text": [
      "                   all        204       2344      0.802       0.49      0.615      0.474\n"
     ]
    },
    {
     "name": "stderr",
     "output_type": "stream",
     "text": [
      "\n"
     ]
    },
    {
     "name": "stdout",
     "output_type": "stream",
     "text": [
      "\n",
      "      Epoch    GPU_mem   box_loss   cls_loss   dfl_loss  Instances       Size\n"
     ]
    },
    {
     "name": "stderr",
     "output_type": "stream",
     "text": [
      "      65/75         0G      1.916       1.09      1.801         53        416: 100%|██████████| 115/115 [04:14<00:00,  \n",
      "                 Class     Images  Instances      Box(P          R      mAP50  mAP50-95): 100%|██████████| 7/7 [00:12<0"
     ]
    },
    {
     "name": "stdout",
     "output_type": "stream",
     "text": [
      "                   all        204       2344      0.789      0.578      0.623      0.473\n"
     ]
    },
    {
     "name": "stderr",
     "output_type": "stream",
     "text": [
      "\n"
     ]
    },
    {
     "name": "stdout",
     "output_type": "stream",
     "text": [
      "Closing dataloader mosaic\n",
      "\n",
      "      Epoch    GPU_mem   box_loss   cls_loss   dfl_loss  Instances       Size\n"
     ]
    },
    {
     "name": "stderr",
     "output_type": "stream",
     "text": [
      "      66/75         0G      1.736     0.9682      1.772         68        416: 100%|██████████| 115/115 [04:05<00:00,  \n",
      "                 Class     Images  Instances      Box(P          R      mAP50  mAP50-95): 100%|██████████| 7/7 [00:12<0"
     ]
    },
    {
     "name": "stdout",
     "output_type": "stream",
     "text": [
      "                   all        204       2344      0.796      0.557      0.652      0.506\n"
     ]
    },
    {
     "name": "stderr",
     "output_type": "stream",
     "text": [
      "\n"
     ]
    },
    {
     "name": "stdout",
     "output_type": "stream",
     "text": [
      "\n",
      "      Epoch    GPU_mem   box_loss   cls_loss   dfl_loss  Instances       Size\n"
     ]
    },
    {
     "name": "stderr",
     "output_type": "stream",
     "text": [
      "      67/75         0G      1.714     0.9375      1.755         32        416: 100%|██████████| 115/115 [04:05<00:00,  \n",
      "                 Class     Images  Instances      Box(P          R      mAP50  mAP50-95): 100%|██████████| 7/7 [00:12<0"
     ]
    },
    {
     "name": "stdout",
     "output_type": "stream",
     "text": [
      "                   all        204       2344      0.914      0.521      0.664      0.512\n"
     ]
    },
    {
     "name": "stderr",
     "output_type": "stream",
     "text": [
      "\n"
     ]
    },
    {
     "name": "stdout",
     "output_type": "stream",
     "text": [
      "\n",
      "      Epoch    GPU_mem   box_loss   cls_loss   dfl_loss  Instances       Size\n"
     ]
    },
    {
     "name": "stderr",
     "output_type": "stream",
     "text": [
      "      68/75         0G      1.684     0.9292       1.75         22        416: 100%|██████████| 115/115 [04:05<00:00,  \n",
      "                 Class     Images  Instances      Box(P          R      mAP50  mAP50-95): 100%|██████████| 7/7 [00:12<0"
     ]
    },
    {
     "name": "stdout",
     "output_type": "stream",
     "text": [
      "                   all        204       2344      0.643      0.627       0.67       0.52\n"
     ]
    },
    {
     "name": "stderr",
     "output_type": "stream",
     "text": [
      "\n"
     ]
    },
    {
     "name": "stdout",
     "output_type": "stream",
     "text": [
      "\n",
      "      Epoch    GPU_mem   box_loss   cls_loss   dfl_loss  Instances       Size\n"
     ]
    },
    {
     "name": "stderr",
     "output_type": "stream",
     "text": [
      "      69/75         0G      1.655      0.919      1.758         52        416: 100%|██████████| 115/115 [04:04<00:00,  \n",
      "                 Class     Images  Instances      Box(P          R      mAP50  mAP50-95): 100%|██████████| 7/7 [00:12<0"
     ]
    },
    {
     "name": "stdout",
     "output_type": "stream",
     "text": [
      "                   all        204       2344      0.645      0.665      0.684      0.525\n"
     ]
    },
    {
     "name": "stderr",
     "output_type": "stream",
     "text": [
      "\n"
     ]
    },
    {
     "name": "stdout",
     "output_type": "stream",
     "text": [
      "\n",
      "      Epoch    GPU_mem   box_loss   cls_loss   dfl_loss  Instances       Size\n"
     ]
    },
    {
     "name": "stderr",
     "output_type": "stream",
     "text": [
      "      70/75         0G      1.667     0.9142      1.752         15        416: 100%|██████████| 115/115 [04:06<00:00,  \n",
      "                 Class     Images  Instances      Box(P          R      mAP50  mAP50-95): 100%|██████████| 7/7 [00:12<0"
     ]
    },
    {
     "name": "stdout",
     "output_type": "stream",
     "text": [
      "                   all        204       2344      0.715      0.588      0.678      0.521\n"
     ]
    },
    {
     "name": "stderr",
     "output_type": "stream",
     "text": [
      "\n"
     ]
    },
    {
     "name": "stdout",
     "output_type": "stream",
     "text": [
      "\n",
      "      Epoch    GPU_mem   box_loss   cls_loss   dfl_loss  Instances       Size\n"
     ]
    },
    {
     "name": "stderr",
     "output_type": "stream",
     "text": [
      "      71/75         0G       1.64     0.9098      1.757         65        416: 100%|██████████| 115/115 [04:05<00:00,  \n",
      "                 Class     Images  Instances      Box(P          R      mAP50  mAP50-95): 100%|██████████| 7/7 [00:12<0"
     ]
    },
    {
     "name": "stdout",
     "output_type": "stream",
     "text": [
      "                   all        204       2344      0.812      0.577      0.706      0.545\n"
     ]
    },
    {
     "name": "stderr",
     "output_type": "stream",
     "text": [
      "\n"
     ]
    },
    {
     "name": "stdout",
     "output_type": "stream",
     "text": [
      "\n",
      "      Epoch    GPU_mem   box_loss   cls_loss   dfl_loss  Instances       Size\n"
     ]
    },
    {
     "name": "stderr",
     "output_type": "stream",
     "text": [
      "      72/75         0G      1.654     0.9083      1.747         26        416: 100%|██████████| 115/115 [04:04<00:00,  \n",
      "                 Class     Images  Instances      Box(P          R      mAP50  mAP50-95): 100%|██████████| 7/7 [00:12<0"
     ]
    },
    {
     "name": "stdout",
     "output_type": "stream",
     "text": [
      "                   all        204       2344       0.78      0.579      0.685      0.541\n"
     ]
    },
    {
     "name": "stderr",
     "output_type": "stream",
     "text": [
      "\n"
     ]
    },
    {
     "name": "stdout",
     "output_type": "stream",
     "text": [
      "\n",
      "      Epoch    GPU_mem   box_loss   cls_loss   dfl_loss  Instances       Size\n"
     ]
    },
    {
     "name": "stderr",
     "output_type": "stream",
     "text": [
      "      73/75         0G      1.615      0.895      1.748         43        416: 100%|██████████| 115/115 [04:05<00:00,  \n",
      "                 Class     Images  Instances      Box(P          R      mAP50  mAP50-95): 100%|██████████| 7/7 [00:12<0"
     ]
    },
    {
     "name": "stdout",
     "output_type": "stream",
     "text": [
      "                   all        204       2344      0.668      0.636      0.681      0.525\n"
     ]
    },
    {
     "name": "stderr",
     "output_type": "stream",
     "text": [
      "\n"
     ]
    },
    {
     "name": "stdout",
     "output_type": "stream",
     "text": [
      "\n",
      "      Epoch    GPU_mem   box_loss   cls_loss   dfl_loss  Instances       Size\n"
     ]
    },
    {
     "name": "stderr",
     "output_type": "stream",
     "text": [
      "      74/75         0G      1.602     0.8906      1.738         76        416: 100%|██████████| 115/115 [04:05<00:00,  \n",
      "                 Class     Images  Instances      Box(P          R      mAP50  mAP50-95): 100%|██████████| 7/7 [00:12<0"
     ]
    },
    {
     "name": "stdout",
     "output_type": "stream",
     "text": [
      "                   all        204       2344      0.713      0.606      0.682       0.52\n"
     ]
    },
    {
     "name": "stderr",
     "output_type": "stream",
     "text": [
      "\n"
     ]
    },
    {
     "name": "stdout",
     "output_type": "stream",
     "text": [
      "\n",
      "      Epoch    GPU_mem   box_loss   cls_loss   dfl_loss  Instances       Size\n"
     ]
    },
    {
     "name": "stderr",
     "output_type": "stream",
     "text": [
      "      75/75         0G      1.588     0.8766      1.733         76        416: 100%|██████████| 115/115 [04:04<00:00,  \n",
      "                 Class     Images  Instances      Box(P          R      mAP50  mAP50-95): 100%|██████████| 7/7 [00:12<0"
     ]
    },
    {
     "name": "stdout",
     "output_type": "stream",
     "text": [
      "                   all        204       2344      0.633      0.641      0.684      0.522\n"
     ]
    },
    {
     "name": "stderr",
     "output_type": "stream",
     "text": [
      "\n"
     ]
    },
    {
     "name": "stdout",
     "output_type": "stream",
     "text": [
      "\n",
      "75 epochs completed in 5.564 hours.\n",
      "Optimizer stripped from runs\\detect\\train\\weights\\last.pt, 5.7MB\n",
      "Optimizer stripped from runs\\detect\\train\\weights\\best.pt, 5.7MB\n",
      "\n",
      "Validating runs\\detect\\train\\weights\\best.pt...\n",
      "Ultralytics 8.3.78  Python-3.13.1 torch-2.6.0+cpu CPU (AMD Ryzen 5 5600H with Radeon Graphics)\n",
      "YOLOv10n summary (fused): 125 layers, 2,695,586 parameters, 0 gradients, 8.2 GFLOPs\n"
     ]
    },
    {
     "name": "stderr",
     "output_type": "stream",
     "text": [
      "                 Class     Images  Instances      Box(P          R      mAP50  mAP50-95): 100%|██████████| 7/7 [00:09<0\n"
     ]
    },
    {
     "name": "stdout",
     "output_type": "stream",
     "text": [
      "                   all        204       2344      0.794       0.58      0.704      0.544\n",
      "               label-1        204       2314      0.918      0.903      0.959      0.774\n",
      "               label-2         12         17      0.783      0.529      0.608      0.467\n",
      "               label-3         13         13      0.681      0.308      0.546       0.39\n",
      "Speed: 0.9ms preprocess, 37.2ms inference, 0.0ms loss, 0.0ms postprocess per image\n",
      "Results saved to \u001b[1mruns\\detect\\train\u001b[0m\n"
     ]
    }
   ],
   "source": [
    "# training the YOLOv11 model with the dataset\n",
    "model = YOLO(\"yolov10n.pt\")\n",
    "\n",
    "results = model.train(data=\"Outputs/data.yaml\", epochs=75, imgsz=416)"
   ]
  },
  {
   "cell_type": "code",
   "execution_count": 40,
   "id": "8e7972db-78d8-4665-a233-ab01c2781777",
   "metadata": {},
   "outputs": [
    {
     "data": {
      "image/png": "[encoded data removed]",
      "text/plain": [
       "<Figure size 1400x800 with 1 Axes>"
      ]
     },
     "metadata": {},
     "output_type": "display_data"
    }
   ],
   "source": [
    "#calidation loss convergence graph\n",
    "\n",
    "path = \"runs/detect/train/results.csv\"\n",
    "df = pd.read_csv(path)\n",
    "\n",
    "plt.figure(figsize = (14, 8))\n",
    "\n",
    "plt.plot(df['epoch'], df['val/box_loss'], color = \"red\")\n",
    "plt.plot(df['epoch'], df['val/cls_loss'], color = \"blue\")\n",
    "plt.plot(df['epoch'], df['val/dfl_loss'], color = \"green\")\n",
    "\n",
    "plt.xlabel(\"Epochs\")\n",
    "plt.ylabel(\"Validation Loss\")\n",
    "plt.title(\"Convergence of validation loss\")\n",
    "plt.legend(['val/box_loss', 'val/cls_loss', 'val/dfl_loss'])\n",
    "plt.grid()\n",
    "\n",
    "plt.show()"
   ]
  },
  {
   "cell_type": "markdown",
   "id": "c6509bfb-2e2e-4cd7-9cea-3b2e962891b5",
   "metadata": {},
   "source": [
    "- ## Predict solar panels using the trained model. Visualize the ground truth and predicted bounding boxes on 3-4 random samples from the test dataset. Use appropriate color schemes to differentiate between ground truth and predicted labels. "
   ]
  },
  {
   "cell_type": "code",
   "execution_count": 53,
   "id": "7fed5260-a982-4017-a683-92e5c16c0a70",
   "metadata": {},
   "outputs": [
    {
     "data": {
      "text/plain": [
       "['solarpanels_native_3__x0_8017_y0_6518_dxdy_416.tif',\n",
       " 'solarpanels_native_3__x0_11851_y0_9196_dxdy_416.tif',\n",
       " 'solarpanels_native_3__x0_10795_y0_1277_dxdy_416.tif',\n",
       " 'solarpanels_native_3__x0_3798_y0_8251_dxdy_416.tif']"
      ]
     },
     "execution_count": 53,
     "metadata": {},
     "output_type": "execute_result"
    }
   ],
   "source": [
    "test_images = os.listdir(\"Outputs/images/test\")\n",
    "rd.seed(20)\n",
    "test_images = [test_images[rd.randint(0, len(test_images))] for _ in range(0, 4)]\n",
    "\n",
    "test_images"
   ]
  },
  {
   "cell_type": "code",
   "execution_count": 3,
   "id": "562bc3a0-956c-46e6-8d62-f5f96223f27c",
   "metadata": {},
   "outputs": [
    {
     "ename": "NameError",
     "evalue": "name 'test_images' is not defined",
     "output_type": "error",
     "traceback": [
      "\u001b[1;31m---------------------------------------------------------------------------\u001b[0m",
      "\u001b[1;31mNameError\u001b[0m                                 Traceback (most recent call last)",
      "Cell \u001b[1;32mIn[3], line 19\u001b[0m\n\u001b[0;32m     16\u001b[0m     cv2\u001b[38;5;241m.\u001b[39mdestroyAllWindows()\n\u001b[0;32m     18\u001b[0m \u001b[38;5;66;03m# Example usage (update test image path)\u001b[39;00m\n\u001b[1;32m---> 19\u001b[0m test_image_path \u001b[38;5;241m=\u001b[39m \u001b[38;5;124m\"\u001b[39m\u001b[38;5;124mOutputs/images/test/\u001b[39m\u001b[38;5;124m\"\u001b[39m \u001b[38;5;241m+\u001b[39m \u001b[43mtest_images\u001b[49m[\u001b[38;5;241m0\u001b[39m]\n\u001b[0;32m     20\u001b[0m draw_boxes(test_image_path)\n",
      "\u001b[1;31mNameError\u001b[0m: name 'test_images' is not defined"
     ]
    }
   ],
   "source": [
    "def draw_boxes(path, pred_box=None, gt_box=None):\n",
    "    curr_img = cv2.imread(path)\n",
    "    curr_img = cv2.cvtColor(curr_img, cv2.COLOR_BGR2RGB)\n",
    "\n",
    "    # Get predictions from YOLO model\n",
    "    pred_box = model(path)[0].boxes.data.cpu().numpy()\n",
    "\n",
    "    # Draw predicted bounding boxes (Green)\n",
    "    for box in pred_box:\n",
    "        x_start, y_start, x_end, y_end, cf_level, cls = map(int, box[:6])  # Convert to integers\n",
    "        cv2.rectangle(curr_img, (x_start, y_start), (x_end, y_end), (0, 255, 0), 2)  # Green for predictions\n",
    "        cv2.putText(curr_img, f\"Pred {int(cls)} ({cf_level:.2f})\", (x_start, y_start - 5), \n",
    "                    cv2.FONT_HERSHEY_SIMPLEX, 0.5, (0, 255, 0), 2)\n",
    "    cv2.imshow(\"Predictions\", curr_img)\n",
    "    cv2.waitKey(0)\n",
    "    cv2.destroyAllWindows()\n",
    "\n",
    "# Example usage (update test image path)\n",
    "test_image_path = \"Outputs/images/test/\" + test_images[0]\n",
    "draw_boxes(test_image_path)"
   ]
  },
  {
   "cell_type": "code",
   "execution_count": null,
   "id": "8f12d98b-def0-49e3-bbc7-8953e36344a0",
   "metadata": {},
   "outputs": [],
   "source": []
  }
 ],
 "metadata": {
  "kernelspec": {
   "display_name": "Python 3 (ipykernel)",
   "language": "python",
   "name": "python3"
  },
  "language_info": {
   "codemirror_mode": {
    "name": "ipython",
    "version": 3
   },
   "file_extension": ".py",
   "mimetype": "text/x-python",
   "name": "python",
   "nbconvert_exporter": "python",
   "pygments_lexer": "ipython3",
   "version": "3.13.1"
  }
 },
 "nbformat": 4,
 "nbformat_minor": 5
}
